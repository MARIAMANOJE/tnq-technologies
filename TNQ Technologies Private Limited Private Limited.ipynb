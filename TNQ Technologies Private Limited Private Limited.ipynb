{
 "cells": [
  {
   "cell_type": "markdown",
   "id": "1b2bde8f",
   "metadata": {},
   "source": [
    "# Importing libraries"
   ]
  },
  {
   "cell_type": "code",
   "execution_count": 1,
   "id": "1ee40357",
   "metadata": {
    "execution": {
     "iopub.execute_input": "2022-08-25T21:08:22.382307Z",
     "iopub.status.busy": "2022-08-25T21:08:22.381721Z",
     "iopub.status.idle": "2022-08-25T21:08:23.612289Z",
     "shell.execute_reply": "2022-08-25T21:08:23.611062Z"
    },
    "papermill": {
     "duration": 1.245584,
     "end_time": "2022-08-25T21:08:23.615352",
     "exception": false,
     "start_time": "2022-08-25T21:08:22.369768",
     "status": "completed"
    },
    "tags": []
   },
   "outputs": [],
   "source": [
    "import pandas as pd\n",
    "import numpy as np\n",
    "import matplotlib.pyplot as plt\n",
    "import seaborn as sns\n",
    "import string\n",
    "from sklearn.preprocessing import LabelEncoder\n",
    "import plotly.express as px"
   ]
  },
  {
   "cell_type": "markdown",
   "id": "89d9263b",
   "metadata": {},
   "source": [
    "# Importing data"
   ]
  },
  {
   "cell_type": "code",
   "execution_count": 2,
   "id": "b2d8b4a6",
   "metadata": {
    "execution": {
     "iopub.execute_input": "2022-08-25T21:08:23.635863Z",
     "iopub.status.busy": "2022-08-25T21:08:23.635392Z",
     "iopub.status.idle": "2022-08-25T21:08:23.683480Z",
     "shell.execute_reply": "2022-08-25T21:08:23.682137Z"
    },
    "papermill": {
     "duration": 0.06304,
     "end_time": "2022-08-25T21:08:23.687498",
     "exception": false,
     "start_time": "2022-08-25T21:08:23.624458",
     "status": "completed"
    },
    "tags": []
   },
   "outputs": [],
   "source": [
    "world=pd.read_csv(r\"C:\\Users\\Mano\\Documents\\imarticus\\world_population.csv\")"
   ]
  },
  {
   "cell_type": "code",
   "execution_count": 3,
   "id": "9ceff17d",
   "metadata": {},
   "outputs": [
    {
     "data": {
      "text/html": [
       "<div>\n",
       "<style scoped>\n",
       "    .dataframe tbody tr th:only-of-type {\n",
       "        vertical-align: middle;\n",
       "    }\n",
       "\n",
       "    .dataframe tbody tr th {\n",
       "        vertical-align: top;\n",
       "    }\n",
       "\n",
       "    .dataframe thead th {\n",
       "        text-align: right;\n",
       "    }\n",
       "</style>\n",
       "<table border=\"1\" class=\"dataframe\">\n",
       "  <thead>\n",
       "    <tr style=\"text-align: right;\">\n",
       "      <th></th>\n",
       "      <th>Rank</th>\n",
       "      <th>CCA3</th>\n",
       "      <th>Country</th>\n",
       "      <th>Capital</th>\n",
       "      <th>Continent</th>\n",
       "      <th>2022 Population</th>\n",
       "      <th>2020 Population</th>\n",
       "      <th>2015 Population</th>\n",
       "      <th>2010 Population</th>\n",
       "      <th>2000 Population</th>\n",
       "      <th>1990 Population</th>\n",
       "      <th>1980 Population</th>\n",
       "      <th>1970 Population</th>\n",
       "      <th>Area (km²)</th>\n",
       "      <th>Density (per km²)</th>\n",
       "      <th>Growth Rate</th>\n",
       "      <th>World Population Percentage</th>\n",
       "    </tr>\n",
       "  </thead>\n",
       "  <tbody>\n",
       "    <tr>\n",
       "      <th>0</th>\n",
       "      <td>36</td>\n",
       "      <td>AFG</td>\n",
       "      <td>Afghanistan</td>\n",
       "      <td>Kabul</td>\n",
       "      <td>Asia</td>\n",
       "      <td>41128771</td>\n",
       "      <td>38972230</td>\n",
       "      <td>33753499</td>\n",
       "      <td>28189672</td>\n",
       "      <td>19542982</td>\n",
       "      <td>10694796</td>\n",
       "      <td>12486631</td>\n",
       "      <td>10752971</td>\n",
       "      <td>652230</td>\n",
       "      <td>63.0587</td>\n",
       "      <td>1.0257</td>\n",
       "      <td>0.52</td>\n",
       "    </tr>\n",
       "    <tr>\n",
       "      <th>1</th>\n",
       "      <td>138</td>\n",
       "      <td>ALB</td>\n",
       "      <td>Albania</td>\n",
       "      <td>Tirana</td>\n",
       "      <td>Europe</td>\n",
       "      <td>2842321</td>\n",
       "      <td>2866849</td>\n",
       "      <td>2882481</td>\n",
       "      <td>2913399</td>\n",
       "      <td>3182021</td>\n",
       "      <td>3295066</td>\n",
       "      <td>2941651</td>\n",
       "      <td>2324731</td>\n",
       "      <td>28748</td>\n",
       "      <td>98.8702</td>\n",
       "      <td>0.9957</td>\n",
       "      <td>0.04</td>\n",
       "    </tr>\n",
       "    <tr>\n",
       "      <th>2</th>\n",
       "      <td>34</td>\n",
       "      <td>DZA</td>\n",
       "      <td>Algeria</td>\n",
       "      <td>Algiers</td>\n",
       "      <td>Africa</td>\n",
       "      <td>44903225</td>\n",
       "      <td>43451666</td>\n",
       "      <td>39543154</td>\n",
       "      <td>35856344</td>\n",
       "      <td>30774621</td>\n",
       "      <td>25518074</td>\n",
       "      <td>18739378</td>\n",
       "      <td>13795915</td>\n",
       "      <td>2381741</td>\n",
       "      <td>18.8531</td>\n",
       "      <td>1.0164</td>\n",
       "      <td>0.56</td>\n",
       "    </tr>\n",
       "    <tr>\n",
       "      <th>3</th>\n",
       "      <td>213</td>\n",
       "      <td>ASM</td>\n",
       "      <td>American Samoa</td>\n",
       "      <td>Pago Pago</td>\n",
       "      <td>Oceania</td>\n",
       "      <td>44273</td>\n",
       "      <td>46189</td>\n",
       "      <td>51368</td>\n",
       "      <td>54849</td>\n",
       "      <td>58230</td>\n",
       "      <td>47818</td>\n",
       "      <td>32886</td>\n",
       "      <td>27075</td>\n",
       "      <td>199</td>\n",
       "      <td>222.4774</td>\n",
       "      <td>0.9831</td>\n",
       "      <td>0.00</td>\n",
       "    </tr>\n",
       "    <tr>\n",
       "      <th>4</th>\n",
       "      <td>203</td>\n",
       "      <td>AND</td>\n",
       "      <td>Andorra</td>\n",
       "      <td>Andorra la Vella</td>\n",
       "      <td>Europe</td>\n",
       "      <td>79824</td>\n",
       "      <td>77700</td>\n",
       "      <td>71746</td>\n",
       "      <td>71519</td>\n",
       "      <td>66097</td>\n",
       "      <td>53569</td>\n",
       "      <td>35611</td>\n",
       "      <td>19860</td>\n",
       "      <td>468</td>\n",
       "      <td>170.5641</td>\n",
       "      <td>1.0100</td>\n",
       "      <td>0.00</td>\n",
       "    </tr>\n",
       "    <tr>\n",
       "      <th>...</th>\n",
       "      <td>...</td>\n",
       "      <td>...</td>\n",
       "      <td>...</td>\n",
       "      <td>...</td>\n",
       "      <td>...</td>\n",
       "      <td>...</td>\n",
       "      <td>...</td>\n",
       "      <td>...</td>\n",
       "      <td>...</td>\n",
       "      <td>...</td>\n",
       "      <td>...</td>\n",
       "      <td>...</td>\n",
       "      <td>...</td>\n",
       "      <td>...</td>\n",
       "      <td>...</td>\n",
       "      <td>...</td>\n",
       "      <td>...</td>\n",
       "    </tr>\n",
       "    <tr>\n",
       "      <th>229</th>\n",
       "      <td>226</td>\n",
       "      <td>WLF</td>\n",
       "      <td>Wallis and Futuna</td>\n",
       "      <td>Mata-Utu</td>\n",
       "      <td>Oceania</td>\n",
       "      <td>11572</td>\n",
       "      <td>11655</td>\n",
       "      <td>12182</td>\n",
       "      <td>13142</td>\n",
       "      <td>14723</td>\n",
       "      <td>13454</td>\n",
       "      <td>11315</td>\n",
       "      <td>9377</td>\n",
       "      <td>142</td>\n",
       "      <td>81.4930</td>\n",
       "      <td>0.9953</td>\n",
       "      <td>0.00</td>\n",
       "    </tr>\n",
       "    <tr>\n",
       "      <th>230</th>\n",
       "      <td>172</td>\n",
       "      <td>ESH</td>\n",
       "      <td>Western Sahara</td>\n",
       "      <td>El Aaiún</td>\n",
       "      <td>Africa</td>\n",
       "      <td>575986</td>\n",
       "      <td>556048</td>\n",
       "      <td>491824</td>\n",
       "      <td>413296</td>\n",
       "      <td>270375</td>\n",
       "      <td>178529</td>\n",
       "      <td>116775</td>\n",
       "      <td>76371</td>\n",
       "      <td>266000</td>\n",
       "      <td>2.1654</td>\n",
       "      <td>1.0184</td>\n",
       "      <td>0.01</td>\n",
       "    </tr>\n",
       "    <tr>\n",
       "      <th>231</th>\n",
       "      <td>46</td>\n",
       "      <td>YEM</td>\n",
       "      <td>Yemen</td>\n",
       "      <td>Sanaa</td>\n",
       "      <td>Asia</td>\n",
       "      <td>33696614</td>\n",
       "      <td>32284046</td>\n",
       "      <td>28516545</td>\n",
       "      <td>24743946</td>\n",
       "      <td>18628700</td>\n",
       "      <td>13375121</td>\n",
       "      <td>9204938</td>\n",
       "      <td>6843607</td>\n",
       "      <td>527968</td>\n",
       "      <td>63.8232</td>\n",
       "      <td>1.0217</td>\n",
       "      <td>0.42</td>\n",
       "    </tr>\n",
       "    <tr>\n",
       "      <th>232</th>\n",
       "      <td>63</td>\n",
       "      <td>ZMB</td>\n",
       "      <td>Zambia</td>\n",
       "      <td>Lusaka</td>\n",
       "      <td>Africa</td>\n",
       "      <td>20017675</td>\n",
       "      <td>18927715</td>\n",
       "      <td>16248230</td>\n",
       "      <td>13792086</td>\n",
       "      <td>9891136</td>\n",
       "      <td>7686401</td>\n",
       "      <td>5720438</td>\n",
       "      <td>4281671</td>\n",
       "      <td>752612</td>\n",
       "      <td>26.5976</td>\n",
       "      <td>1.0280</td>\n",
       "      <td>0.25</td>\n",
       "    </tr>\n",
       "    <tr>\n",
       "      <th>233</th>\n",
       "      <td>74</td>\n",
       "      <td>ZWE</td>\n",
       "      <td>Zimbabwe</td>\n",
       "      <td>Harare</td>\n",
       "      <td>Africa</td>\n",
       "      <td>16320537</td>\n",
       "      <td>15669666</td>\n",
       "      <td>14154937</td>\n",
       "      <td>12839771</td>\n",
       "      <td>11834676</td>\n",
       "      <td>10113893</td>\n",
       "      <td>7049926</td>\n",
       "      <td>5202918</td>\n",
       "      <td>390757</td>\n",
       "      <td>41.7665</td>\n",
       "      <td>1.0204</td>\n",
       "      <td>0.20</td>\n",
       "    </tr>\n",
       "  </tbody>\n",
       "</table>\n",
       "<p>234 rows × 17 columns</p>\n",
       "</div>"
      ],
      "text/plain": [
       "     Rank CCA3            Country           Capital Continent  \\\n",
       "0      36  AFG        Afghanistan             Kabul      Asia   \n",
       "1     138  ALB            Albania            Tirana    Europe   \n",
       "2      34  DZA            Algeria           Algiers    Africa   \n",
       "3     213  ASM     American Samoa         Pago Pago   Oceania   \n",
       "4     203  AND            Andorra  Andorra la Vella    Europe   \n",
       "..    ...  ...                ...               ...       ...   \n",
       "229   226  WLF  Wallis and Futuna          Mata-Utu   Oceania   \n",
       "230   172  ESH     Western Sahara          El Aaiún    Africa   \n",
       "231    46  YEM              Yemen             Sanaa      Asia   \n",
       "232    63  ZMB             Zambia            Lusaka    Africa   \n",
       "233    74  ZWE           Zimbabwe            Harare    Africa   \n",
       "\n",
       "     2022 Population  2020 Population  2015 Population  2010 Population  \\\n",
       "0           41128771         38972230         33753499         28189672   \n",
       "1            2842321          2866849          2882481          2913399   \n",
       "2           44903225         43451666         39543154         35856344   \n",
       "3              44273            46189            51368            54849   \n",
       "4              79824            77700            71746            71519   \n",
       "..               ...              ...              ...              ...   \n",
       "229            11572            11655            12182            13142   \n",
       "230           575986           556048           491824           413296   \n",
       "231         33696614         32284046         28516545         24743946   \n",
       "232         20017675         18927715         16248230         13792086   \n",
       "233         16320537         15669666         14154937         12839771   \n",
       "\n",
       "     2000 Population  1990 Population  1980 Population  1970 Population  \\\n",
       "0           19542982         10694796         12486631         10752971   \n",
       "1            3182021          3295066          2941651          2324731   \n",
       "2           30774621         25518074         18739378         13795915   \n",
       "3              58230            47818            32886            27075   \n",
       "4              66097            53569            35611            19860   \n",
       "..               ...              ...              ...              ...   \n",
       "229            14723            13454            11315             9377   \n",
       "230           270375           178529           116775            76371   \n",
       "231         18628700         13375121          9204938          6843607   \n",
       "232          9891136          7686401          5720438          4281671   \n",
       "233         11834676         10113893          7049926          5202918   \n",
       "\n",
       "     Area (km²)  Density (per km²)  Growth Rate  World Population Percentage  \n",
       "0        652230            63.0587       1.0257                         0.52  \n",
       "1         28748            98.8702       0.9957                         0.04  \n",
       "2       2381741            18.8531       1.0164                         0.56  \n",
       "3           199           222.4774       0.9831                         0.00  \n",
       "4           468           170.5641       1.0100                         0.00  \n",
       "..          ...                ...          ...                          ...  \n",
       "229         142            81.4930       0.9953                         0.00  \n",
       "230      266000             2.1654       1.0184                         0.01  \n",
       "231      527968            63.8232       1.0217                         0.42  \n",
       "232      752612            26.5976       1.0280                         0.25  \n",
       "233      390757            41.7665       1.0204                         0.20  \n",
       "\n",
       "[234 rows x 17 columns]"
      ]
     },
     "execution_count": 3,
     "metadata": {},
     "output_type": "execute_result"
    }
   ],
   "source": [
    "world"
   ]
  },
  {
   "cell_type": "code",
   "execution_count": 4,
   "id": "d0b180bd",
   "metadata": {},
   "outputs": [
    {
     "name": "stdout",
     "output_type": "stream",
     "text": [
      "<class 'pandas.core.frame.DataFrame'>\n",
      "RangeIndex: 234 entries, 0 to 233\n",
      "Data columns (total 17 columns):\n",
      " #   Column                       Non-Null Count  Dtype  \n",
      "---  ------                       --------------  -----  \n",
      " 0   Rank                         234 non-null    int64  \n",
      " 1   CCA3                         234 non-null    object \n",
      " 2   Country                      234 non-null    object \n",
      " 3   Capital                      234 non-null    object \n",
      " 4   Continent                    234 non-null    object \n",
      " 5   2022 Population              234 non-null    int64  \n",
      " 6   2020 Population              234 non-null    int64  \n",
      " 7   2015 Population              234 non-null    int64  \n",
      " 8   2010 Population              234 non-null    int64  \n",
      " 9   2000 Population              234 non-null    int64  \n",
      " 10  1990 Population              234 non-null    int64  \n",
      " 11  1980 Population              234 non-null    int64  \n",
      " 12  1970 Population              234 non-null    int64  \n",
      " 13  Area (km²)                   234 non-null    int64  \n",
      " 14  Density (per km²)            234 non-null    float64\n",
      " 15  Growth Rate                  234 non-null    float64\n",
      " 16  World Population Percentage  234 non-null    float64\n",
      "dtypes: float64(3), int64(10), object(4)\n",
      "memory usage: 31.2+ KB\n"
     ]
    }
   ],
   "source": [
    "world.info()"
   ]
  },
  {
   "cell_type": "markdown",
   "id": "50237b5d",
   "metadata": {},
   "source": [
    "# 2.To check null values"
   ]
  },
  {
   "cell_type": "code",
   "execution_count": 5,
   "id": "9c3c2544",
   "metadata": {},
   "outputs": [
    {
     "data": {
      "text/plain": [
       "Rank                           0\n",
       "CCA3                           0\n",
       "Country                        0\n",
       "Capital                        0\n",
       "Continent                      0\n",
       "2022 Population                0\n",
       "2020 Population                0\n",
       "2015 Population                0\n",
       "2010 Population                0\n",
       "2000 Population                0\n",
       "1990 Population                0\n",
       "1980 Population                0\n",
       "1970 Population                0\n",
       "Area (km²)                     0\n",
       "Density (per km²)              0\n",
       "Growth Rate                    0\n",
       "World Population Percentage    0\n",
       "dtype: int64"
      ]
     },
     "execution_count": 5,
     "metadata": {},
     "output_type": "execute_result"
    }
   ],
   "source": [
    "world.isnull().sum()"
   ]
  },
  {
   "cell_type": "code",
   "execution_count": 6,
   "id": "dff18d85",
   "metadata": {},
   "outputs": [
    {
     "data": {
      "text/plain": [
       "Index(['CCA3', 'Country', 'Capital', 'Continent'], dtype='object')"
      ]
     },
     "execution_count": 6,
     "metadata": {},
     "output_type": "execute_result"
    }
   ],
   "source": [
    "ObjectCol = world.columns[1:5]\n",
    "ObjectCol"
   ]
  },
  {
   "cell_type": "code",
   "execution_count": 7,
   "id": "c1bd2407",
   "metadata": {},
   "outputs": [
    {
     "data": {
      "text/plain": [
       "Index(['2022 Population', '2020 Population', '2015 Population',\n",
       "       '2010 Population', '2000 Population', '1990 Population',\n",
       "       '1980 Population', '1970 Population', 'Area (km²)', 'Density (per km²)',\n",
       "       'Growth Rate', 'World Population Percentage'],\n",
       "      dtype='object')"
      ]
     },
     "execution_count": 7,
     "metadata": {},
     "output_type": "execute_result"
    }
   ],
   "source": [
    "ContinousCol=world.columns[5:]\n",
    "ContinousCol"
   ]
  },
  {
   "cell_type": "code",
   "execution_count": 8,
   "id": "0fd525ee",
   "metadata": {},
   "outputs": [
    {
     "name": "stdout",
     "output_type": "stream",
     "text": [
      "There is a Special Character in Country The Values is  Guinea-Bissau\n",
      "There is a Special Character in Country The Values is  Timor-Leste\n",
      "There is a Special Character in Capital The Values is  Porto-Novo\n",
      "There is a Special Character in Capital The Values is  N'Djamena\n",
      "There is a Special Character in Capital The Values is  Basse-Terre\n",
      "There is a Special Character in Capital The Values is  Port-au-Prince\n",
      "There is a Special Character in Capital The Values is  Fort-de-France\n",
      "There is a Special Character in Capital The Values is  Saint-Denis\n",
      "There is a Special Character in Capital The Values is  Saint-Pierre\n",
      "There is a Special Character in Capital The Values is  Nuku‘alofa\n",
      "There is a Special Character in Capital The Values is  Port-of-Spain\n",
      "There is a Special Character in Capital The Values is  Port-Vila\n",
      "There is a Special Character in Capital The Values is  Mata-Utu\n"
     ]
    }
   ],
   "source": [
    "\n",
    "for i in ObjectCol:\n",
    "    for j in world[i]:\n",
    "        if(j.isalpha() or \" \" in j):\n",
    "            continue\n",
    "        else:\n",
    "            print(\"There is a Special Character in\",i,\"The Values is \",j)"
   ]
  },
  {
   "cell_type": "markdown",
   "id": "d59c4897",
   "metadata": {
    "papermill": {
     "duration": 0.008928,
     "end_time": "2022-08-25T21:08:23.786628",
     "exception": false,
     "start_time": "2022-08-25T21:08:23.777700",
     "status": "completed"
    },
    "tags": []
   },
   "source": [
    "<a id=\"section-one\"></a>\n",
    "# 2.Continent population characteristics"
   ]
  },
  {
   "cell_type": "markdown",
   "id": "8122c3ec",
   "metadata": {
    "papermill": {
     "duration": 0.008983,
     "end_time": "2022-08-25T21:08:23.804877",
     "exception": false,
     "start_time": "2022-08-25T21:08:23.795894",
     "status": "completed"
    },
    "tags": []
   },
   "source": [
    "<a id=\"subsection-one-one\"></a>\n",
    "## Percentages of world population"
   ]
  },
  {
   "cell_type": "code",
   "execution_count": 9,
   "id": "f31169b9",
   "metadata": {
    "execution": {
     "iopub.execute_input": "2022-08-25T21:08:23.826280Z",
     "iopub.status.busy": "2022-08-25T21:08:23.825887Z",
     "iopub.status.idle": "2022-08-25T21:08:23.849264Z",
     "shell.execute_reply": "2022-08-25T21:08:23.848121Z"
    },
    "papermill": {
     "duration": 0.036438,
     "end_time": "2022-08-25T21:08:23.851609",
     "exception": false,
     "start_time": "2022-08-25T21:08:23.815171",
     "status": "completed"
    },
    "tags": []
   },
   "outputs": [
    {
     "data": {
      "text/html": [
       "<div>\n",
       "<style scoped>\n",
       "    .dataframe tbody tr th:only-of-type {\n",
       "        vertical-align: middle;\n",
       "    }\n",
       "\n",
       "    .dataframe tbody tr th {\n",
       "        vertical-align: top;\n",
       "    }\n",
       "\n",
       "    .dataframe thead th {\n",
       "        text-align: right;\n",
       "    }\n",
       "</style>\n",
       "<table border=\"1\" class=\"dataframe\">\n",
       "  <thead>\n",
       "    <tr style=\"text-align: right;\">\n",
       "      <th></th>\n",
       "      <th>max</th>\n",
       "      <th>sum</th>\n",
       "    </tr>\n",
       "    <tr>\n",
       "      <th>Continent</th>\n",
       "      <th></th>\n",
       "      <th></th>\n",
       "    </tr>\n",
       "  </thead>\n",
       "  <tbody>\n",
       "    <tr>\n",
       "      <th>Africa</th>\n",
       "      <td>2.74</td>\n",
       "      <td>17.87</td>\n",
       "    </tr>\n",
       "    <tr>\n",
       "      <th>Asia</th>\n",
       "      <td>17.88</td>\n",
       "      <td>59.19</td>\n",
       "    </tr>\n",
       "    <tr>\n",
       "      <th>Europe</th>\n",
       "      <td>1.81</td>\n",
       "      <td>9.33</td>\n",
       "    </tr>\n",
       "    <tr>\n",
       "      <th>North America</th>\n",
       "      <td>4.24</td>\n",
       "      <td>7.51</td>\n",
       "    </tr>\n",
       "    <tr>\n",
       "      <th>Oceania</th>\n",
       "      <td>0.33</td>\n",
       "      <td>0.55</td>\n",
       "    </tr>\n",
       "    <tr>\n",
       "      <th>South America</th>\n",
       "      <td>2.70</td>\n",
       "      <td>5.48</td>\n",
       "    </tr>\n",
       "  </tbody>\n",
       "</table>\n",
       "</div>"
      ],
      "text/plain": [
       "                 max    sum\n",
       "Continent                  \n",
       "Africa          2.74  17.87\n",
       "Asia           17.88  59.19\n",
       "Europe          1.81   9.33\n",
       "North America   4.24   7.51\n",
       "Oceania         0.33   0.55\n",
       "South America   2.70   5.48"
      ]
     },
     "execution_count": 9,
     "metadata": {},
     "output_type": "execute_result"
    }
   ],
   "source": [
    "continents = world.groupby(['Continent'],as_index=False)['World Population Percentage'].agg([max,sum])\n",
    "continents"
   ]
  },
  {
   "cell_type": "code",
   "execution_count": 10,
   "id": "99dc2caf",
   "metadata": {
    "execution": {
     "iopub.execute_input": "2022-08-25T21:08:23.872368Z",
     "iopub.status.busy": "2022-08-25T21:08:23.871989Z",
     "iopub.status.idle": "2022-08-25T21:08:24.185703Z",
     "shell.execute_reply": "2022-08-25T21:08:24.184485Z"
    },
    "papermill": {
     "duration": 0.326982,
     "end_time": "2022-08-25T21:08:24.188242",
     "exception": false,
     "start_time": "2022-08-25T21:08:23.861260",
     "status": "completed"
    },
    "tags": []
   },
   "outputs": [
    {
     "data": {
      "text/plain": [
       "Text(0.5, 1.0, 'World population by Continent')"
      ]
     },
     "execution_count": 10,
     "metadata": {},
     "output_type": "execute_result"
    },
    {
     "data": {
      "image/png": "[encoded data removed]",
      "text/plain": [
       "<Figure size 576x432 with 1 Axes>"
      ]
     },
     "metadata": {
      "needs_background": "light"
     },
     "output_type": "display_data"
    }
   ],
   "source": [
    "continents.plot(kind=\"barh\", y='sum',figsize=(8,6),label='World population')\n",
    "plt.xlabel(\"Percentage of world population (%)\")\n",
    "plt.title(\"World population by Continent\")"
   ]
  },
  {
   "cell_type": "markdown",
   "id": "7facd18e",
   "metadata": {
    "papermill": {
     "duration": 0.009729,
     "end_time": "2022-08-25T21:08:24.208566",
     "exception": false,
     "start_time": "2022-08-25T21:08:24.198837",
     "status": "completed"
    },
    "tags": []
   },
   "source": [
    "<a id=\"subsection-one-two\"></a>\n",
    "## Number of countries"
   ]
  },
  {
   "cell_type": "code",
   "execution_count": 11,
   "id": "59837900",
   "metadata": {
    "execution": {
     "iopub.execute_input": "2022-08-25T21:08:24.230613Z",
     "iopub.status.busy": "2022-08-25T21:08:24.230142Z",
     "iopub.status.idle": "2022-08-25T21:08:24.239874Z",
     "shell.execute_reply": "2022-08-25T21:08:24.238750Z"
    },
    "papermill": {
     "duration": 0.024535,
     "end_time": "2022-08-25T21:08:24.243227",
     "exception": false,
     "start_time": "2022-08-25T21:08:24.218692",
     "status": "completed"
    },
    "tags": []
   },
   "outputs": [
    {
     "name": "stdout",
     "output_type": "stream",
     "text": [
      "Continent\n",
      "Africa           57\n",
      "Asia             50\n",
      "Europe           50\n",
      "North America    40\n",
      "Oceania          23\n",
      "South America    14\n",
      "Name: Country, dtype: int64 \n",
      "\n",
      "Africa           57\n",
      "Asia             50\n",
      "Europe           50\n",
      "North America    40\n",
      "Oceania          23\n",
      "South America    14\n",
      "Name: Continent, dtype: int64 \n",
      "\n",
      "Continent\n",
      "Africa           57\n",
      "Asia             50\n",
      "Europe           50\n",
      "North America    40\n",
      "Oceania          23\n",
      "South America    14\n",
      "Name: Country, dtype: int64 \n",
      "\n"
     ]
    }
   ],
   "source": [
    "## Two ways to show the same worldrint(world['Continent'].value_counts(),\"\\n\")\n",
    "print(world.groupby('Continent')['Country'].count(),\"\\n\")\n",
    "print(world['Continent'].value_counts(),\"\\n\")\n",
    "print(world.groupby('Continent')['Country'].count(),\"\\n\")"
   ]
  },
  {
   "cell_type": "code",
   "execution_count": 12,
   "id": "b3400910",
   "metadata": {
    "execution": {
     "iopub.execute_input": "2022-08-25T21:08:24.268854Z",
     "iopub.status.busy": "2022-08-25T21:08:24.268382Z",
     "iopub.status.idle": "2022-08-25T21:08:24.450415Z",
     "shell.execute_reply": "2022-08-25T21:08:24.448646Z"
    },
    "papermill": {
     "duration": 0.199916,
     "end_time": "2022-08-25T21:08:24.454925",
     "exception": false,
     "start_time": "2022-08-25T21:08:24.255009",
     "status": "completed"
    },
    "tags": []
   },
   "outputs": [
    {
     "data": {
      "text/plain": [
       "([<matplotlib.patches.Wedge at 0x197bb36eac0>,\n",
       "  <matplotlib.patches.Wedge at 0x197bb37f220>,\n",
       "  <matplotlib.patches.Wedge at 0x197bb37f940>,\n",
       "  <matplotlib.patches.Wedge at 0x197bb38d0a0>,\n",
       "  <matplotlib.patches.Wedge at 0x197bb38d7c0>,\n",
       "  <matplotlib.patches.Wedge at 0x197bb38dee0>],\n",
       " [Text(0.7933226911635385, 0.7619967898128187, 'Africa'),\n",
       "  Text(-0.6489509921990213, 0.8881793792494318, 'Europe'),\n",
       "  Text(-1.0119773781913737, -0.43116329392576286, 'Asia'),\n",
       "  Text(0.04429258293469795, -1.099107896021575, 'North America'),\n",
       "  Text(0.8520655026864785, -0.6956898584366735, 'Oceania'),\n",
       "  Text(1.0806265254874028, -0.20553907758142614, 'South America')],\n",
       " [Text(0.4327214679073846, 0.4156346126251738, '24.4%'),\n",
       "  Text(-0.3539732684721934, 0.4844614795905991, '21.4%'),\n",
       "  Text(-0.5519876608316583, -0.23517997850496153, '21.4%'),\n",
       "  Text(0.024159590691653424, -0.59951339782995, '17.1%'),\n",
       "  Text(0.4647630014653519, -0.3794671955109128, '9.8%'),\n",
       "  Text(0.589432650265856, -0.11211222413532333, '6.0%')])"
      ]
     },
     "execution_count": 12,
     "metadata": {},
     "output_type": "execute_result"
    },
    {
     "data": {
      "image/png": "[encoded data removed]",
      "text/plain": [
       "<Figure size 432x432 with 1 Axes>"
      ]
     },
     "metadata": {},
     "output_type": "display_data"
    }
   ],
   "source": [
    "plt.subplots(figsize=(6,6))\n",
    "plt.pie(world['Continent'].value_counts(),labels=['Africa', 'Europe', 'Asia', 'North America', 'Oceania',\n",
    "       'South America'],autopct=\"%1.1f%%\")"
   ]
  },
  {
   "cell_type": "markdown",
   "id": "1614f5d1",
   "metadata": {
    "papermill": {
     "duration": 0.012427,
     "end_time": "2022-08-25T21:08:24.768373",
     "exception": false,
     "start_time": "2022-08-25T21:08:24.755946",
     "status": "completed"
    },
    "tags": []
   },
   "source": [
    "<a id=\"subsection-one-three\"></a>\n",
    "\n",
    "## Area of each continent (km2)"
   ]
  },
  {
   "cell_type": "code",
   "execution_count": 13,
   "id": "46d619eb",
   "metadata": {
    "execution": {
     "iopub.execute_input": "2022-08-25T21:08:24.793358Z",
     "iopub.status.busy": "2022-08-25T21:08:24.792497Z",
     "iopub.status.idle": "2022-08-25T21:08:24.803633Z",
     "shell.execute_reply": "2022-08-25T21:08:24.802364Z"
    },
    "papermill": {
     "duration": 0.026672,
     "end_time": "2022-08-25T21:08:24.806228",
     "exception": false,
     "start_time": "2022-08-25T21:08:24.779556",
     "status": "completed"
    },
    "tags": []
   },
   "outputs": [
    {
     "data": {
      "text/plain": [
       "Continent\n",
       "Africa           30317963\n",
       "Asia             32138141\n",
       "Europe           23010411\n",
       "North America    24244178\n",
       "Oceania           8515081\n",
       "South America    17833382\n",
       "Name: Area (km²), dtype: int64"
      ]
     },
     "execution_count": 13,
     "metadata": {},
     "output_type": "execute_result"
    }
   ],
   "source": [
    "world.groupby('Continent')['Area (km²)'].sum()"
   ]
  },
  {
   "cell_type": "code",
   "execution_count": 14,
   "id": "86e40016",
   "metadata": {
    "execution": {
     "iopub.execute_input": "2022-08-25T21:08:24.832766Z",
     "iopub.status.busy": "2022-08-25T21:08:24.831942Z",
     "iopub.status.idle": "2022-08-25T21:08:24.841922Z",
     "shell.execute_reply": "2022-08-25T21:08:24.840590Z"
    },
    "papermill": {
     "duration": 0.027097,
     "end_time": "2022-08-25T21:08:24.844775",
     "exception": false,
     "start_time": "2022-08-25T21:08:24.817678",
     "status": "completed"
    },
    "tags": []
   },
   "outputs": [],
   "source": [
    "\n",
    "continentsarea = world.groupby(['Continent'],as_index=False)['Area (km²)'].sum().sort_values(by='Area (km²)', ascending=False)\n"
   ]
  },
  {
   "cell_type": "code",
   "execution_count": 15,
   "id": "2fb667fc",
   "metadata": {
    "execution": {
     "iopub.execute_input": "2022-08-25T21:08:24.870675Z",
     "iopub.status.busy": "2022-08-25T21:08:24.870244Z",
     "iopub.status.idle": "2022-08-25T21:08:25.083543Z",
     "shell.execute_reply": "2022-08-25T21:08:25.082141Z"
    },
    "papermill": {
     "duration": 0.229968,
     "end_time": "2022-08-25T21:08:25.086066",
     "exception": false,
     "start_time": "2022-08-25T21:08:24.856098",
     "status": "completed"
    },
    "tags": []
   },
   "outputs": [
    {
     "data": {
      "text/plain": [
       "Text(0.5, 1.0, 'Area (km2) per continent')"
      ]
     },
     "execution_count": 15,
     "metadata": {},
     "output_type": "execute_result"
    },
    {
     "data": {
      "image/png": "[encoded data removed]",
      "text/plain": [
       "<Figure size 576x432 with 1 Axes>"
      ]
     },
     "metadata": {
      "needs_background": "light"
     },
     "output_type": "display_data"
    }
   ],
   "source": [
    "continentsarea.plot(kind=\"bar\", x= 'Continent', y='Area (km²)',figsize=(8,6),label='Km2')\n",
    "plt.xlabel(\"Continents\")\n",
    "plt.title(\"Area (km2) per continent\")"
   ]
  },
  {
   "cell_type": "markdown",
   "id": "1d599d0c",
   "metadata": {
    "papermill": {
     "duration": 0.011052,
     "end_time": "2022-08-25T21:08:25.108655",
     "exception": false,
     "start_time": "2022-08-25T21:08:25.097603",
     "status": "completed"
    },
    "tags": []
   },
   "source": [
    "# Number format for a column"
   ]
  },
  {
   "cell_type": "code",
   "execution_count": 16,
   "id": "5497a010",
   "metadata": {
    "execution": {
     "iopub.execute_input": "2022-08-25T21:08:25.133743Z",
     "iopub.status.busy": "2022-08-25T21:08:25.132961Z",
     "iopub.status.idle": "2022-08-25T21:08:25.203604Z",
     "shell.execute_reply": "2022-08-25T21:08:25.202415Z"
    },
    "papermill": {
     "duration": 0.086313,
     "end_time": "2022-08-25T21:08:25.206353",
     "exception": false,
     "start_time": "2022-08-25T21:08:25.120040",
     "status": "completed"
    },
    "tags": []
   },
   "outputs": [
    {
     "data": {
      "text/html": [
       "<style type=\"text/css\">\n",
       "</style>\n",
       "<table id=\"T_1de0f\">\n",
       "  <thead>\n",
       "    <tr>\n",
       "      <th class=\"blank level0\" >&nbsp;</th>\n",
       "      <th id=\"T_1de0f_level0_col0\" class=\"col_heading level0 col0\" >Continent</th>\n",
       "      <th id=\"T_1de0f_level0_col1\" class=\"col_heading level0 col1\" >Area (km²)</th>\n",
       "    </tr>\n",
       "  </thead>\n",
       "  <tbody>\n",
       "    <tr>\n",
       "      <th id=\"T_1de0f_level0_row0\" class=\"row_heading level0 row0\" >1</th>\n",
       "      <td id=\"T_1de0f_row0_col0\" class=\"data row0 col0\" >Asia</td>\n",
       "      <td id=\"T_1de0f_row0_col1\" class=\"data row0 col1\" >32,138,141</td>\n",
       "    </tr>\n",
       "    <tr>\n",
       "      <th id=\"T_1de0f_level0_row1\" class=\"row_heading level0 row1\" >0</th>\n",
       "      <td id=\"T_1de0f_row1_col0\" class=\"data row1 col0\" >Africa</td>\n",
       "      <td id=\"T_1de0f_row1_col1\" class=\"data row1 col1\" >30,317,963</td>\n",
       "    </tr>\n",
       "    <tr>\n",
       "      <th id=\"T_1de0f_level0_row2\" class=\"row_heading level0 row2\" >3</th>\n",
       "      <td id=\"T_1de0f_row2_col0\" class=\"data row2 col0\" >North America</td>\n",
       "      <td id=\"T_1de0f_row2_col1\" class=\"data row2 col1\" >24,244,178</td>\n",
       "    </tr>\n",
       "    <tr>\n",
       "      <th id=\"T_1de0f_level0_row3\" class=\"row_heading level0 row3\" >2</th>\n",
       "      <td id=\"T_1de0f_row3_col0\" class=\"data row3 col0\" >Europe</td>\n",
       "      <td id=\"T_1de0f_row3_col1\" class=\"data row3 col1\" >23,010,411</td>\n",
       "    </tr>\n",
       "    <tr>\n",
       "      <th id=\"T_1de0f_level0_row4\" class=\"row_heading level0 row4\" >5</th>\n",
       "      <td id=\"T_1de0f_row4_col0\" class=\"data row4 col0\" >South America</td>\n",
       "      <td id=\"T_1de0f_row4_col1\" class=\"data row4 col1\" >17,833,382</td>\n",
       "    </tr>\n",
       "    <tr>\n",
       "      <th id=\"T_1de0f_level0_row5\" class=\"row_heading level0 row5\" >4</th>\n",
       "      <td id=\"T_1de0f_row5_col0\" class=\"data row5 col0\" >Oceania</td>\n",
       "      <td id=\"T_1de0f_row5_col1\" class=\"data row5 col1\" >8,515,081</td>\n",
       "    </tr>\n",
       "  </tbody>\n",
       "</table>\n"
      ],
      "text/plain": [
       "<pandas.io.formats.style.Styler at 0x197bb4263a0>"
      ]
     },
     "execution_count": 16,
     "metadata": {},
     "output_type": "execute_result"
    }
   ],
   "source": [
    "continentsarea.style.format({\"Area (km²)\":\"{:,.0f}\"})\n"
   ]
  },
  {
   "cell_type": "markdown",
   "id": "f1d82869",
   "metadata": {
    "papermill": {
     "duration": 0.011447,
     "end_time": "2022-08-25T21:08:25.229621",
     "exception": false,
     "start_time": "2022-08-25T21:08:25.218174",
     "status": "completed"
    },
    "tags": []
   },
   "source": [
    "<a id=\"section-two\"></a>\n",
    "\n",
    "# 3.Analysis of countries"
   ]
  },
  {
   "cell_type": "markdown",
   "id": "57ba681b",
   "metadata": {
    "papermill": {
     "duration": 0.011882,
     "end_time": "2022-08-25T21:08:25.253234",
     "exception": false,
     "start_time": "2022-08-25T21:08:25.241352",
     "status": "completed"
    },
    "tags": []
   },
   "source": [
    "<a id=\"subsection-two-one\"></a>\n",
    "\n",
    "## Top 10 countries more populated in 2022"
   ]
  },
  {
   "cell_type": "code",
   "execution_count": 17,
   "id": "022b1be7",
   "metadata": {
    "execution": {
     "iopub.execute_input": "2022-08-25T21:08:25.279062Z",
     "iopub.status.busy": "2022-08-25T21:08:25.278693Z",
     "iopub.status.idle": "2022-08-25T21:08:25.302609Z",
     "shell.execute_reply": "2022-08-25T21:08:25.301688Z"
    },
    "papermill": {
     "duration": 0.040366,
     "end_time": "2022-08-25T21:08:25.305476",
     "exception": false,
     "start_time": "2022-08-25T21:08:25.265110",
     "status": "completed"
    },
    "tags": []
   },
   "outputs": [
    {
     "data": {
      "text/html": [
       "<div>\n",
       "<style scoped>\n",
       "    .dataframe tbody tr th:only-of-type {\n",
       "        vertical-align: middle;\n",
       "    }\n",
       "\n",
       "    .dataframe tbody tr th {\n",
       "        vertical-align: top;\n",
       "    }\n",
       "\n",
       "    .dataframe thead th {\n",
       "        text-align: right;\n",
       "    }\n",
       "</style>\n",
       "<table border=\"1\" class=\"dataframe\">\n",
       "  <thead>\n",
       "    <tr style=\"text-align: right;\">\n",
       "      <th></th>\n",
       "      <th>Rank</th>\n",
       "      <th>CCA3</th>\n",
       "      <th>Country</th>\n",
       "      <th>Capital</th>\n",
       "      <th>Continent</th>\n",
       "      <th>2022 Population</th>\n",
       "      <th>2020 Population</th>\n",
       "      <th>2015 Population</th>\n",
       "      <th>2010 Population</th>\n",
       "      <th>2000 Population</th>\n",
       "      <th>1990 Population</th>\n",
       "      <th>1980 Population</th>\n",
       "      <th>1970 Population</th>\n",
       "      <th>Area (km²)</th>\n",
       "      <th>Density (per km²)</th>\n",
       "      <th>Growth Rate</th>\n",
       "      <th>World Population Percentage</th>\n",
       "    </tr>\n",
       "  </thead>\n",
       "  <tbody>\n",
       "    <tr>\n",
       "      <th>41</th>\n",
       "      <td>1</td>\n",
       "      <td>CHN</td>\n",
       "      <td>China</td>\n",
       "      <td>Beijing</td>\n",
       "      <td>Asia</td>\n",
       "      <td>1425887337</td>\n",
       "      <td>1424929781</td>\n",
       "      <td>1393715448</td>\n",
       "      <td>1348191368</td>\n",
       "      <td>1264099069</td>\n",
       "      <td>1153704252</td>\n",
       "      <td>982372466</td>\n",
       "      <td>822534450</td>\n",
       "      <td>9706961</td>\n",
       "      <td>146.8933</td>\n",
       "      <td>1.0000</td>\n",
       "      <td>17.88</td>\n",
       "    </tr>\n",
       "    <tr>\n",
       "      <th>92</th>\n",
       "      <td>2</td>\n",
       "      <td>IND</td>\n",
       "      <td>India</td>\n",
       "      <td>New Delhi</td>\n",
       "      <td>Asia</td>\n",
       "      <td>1417173173</td>\n",
       "      <td>1396387127</td>\n",
       "      <td>1322866505</td>\n",
       "      <td>1240613620</td>\n",
       "      <td>1059633675</td>\n",
       "      <td>870452165</td>\n",
       "      <td>696828385</td>\n",
       "      <td>557501301</td>\n",
       "      <td>3287590</td>\n",
       "      <td>431.0675</td>\n",
       "      <td>1.0068</td>\n",
       "      <td>17.77</td>\n",
       "    </tr>\n",
       "    <tr>\n",
       "      <th>221</th>\n",
       "      <td>3</td>\n",
       "      <td>USA</td>\n",
       "      <td>United States</td>\n",
       "      <td>Washington, D.C.</td>\n",
       "      <td>North America</td>\n",
       "      <td>338289857</td>\n",
       "      <td>335942003</td>\n",
       "      <td>324607776</td>\n",
       "      <td>311182845</td>\n",
       "      <td>282398554</td>\n",
       "      <td>248083732</td>\n",
       "      <td>223140018</td>\n",
       "      <td>200328340</td>\n",
       "      <td>9372610</td>\n",
       "      <td>36.0935</td>\n",
       "      <td>1.0038</td>\n",
       "      <td>4.24</td>\n",
       "    </tr>\n",
       "    <tr>\n",
       "      <th>93</th>\n",
       "      <td>4</td>\n",
       "      <td>IDN</td>\n",
       "      <td>Indonesia</td>\n",
       "      <td>Jakarta</td>\n",
       "      <td>Asia</td>\n",
       "      <td>275501339</td>\n",
       "      <td>271857970</td>\n",
       "      <td>259091970</td>\n",
       "      <td>244016173</td>\n",
       "      <td>214072421</td>\n",
       "      <td>182159874</td>\n",
       "      <td>148177096</td>\n",
       "      <td>115228394</td>\n",
       "      <td>1904569</td>\n",
       "      <td>144.6529</td>\n",
       "      <td>1.0064</td>\n",
       "      <td>3.45</td>\n",
       "    </tr>\n",
       "    <tr>\n",
       "      <th>156</th>\n",
       "      <td>5</td>\n",
       "      <td>PAK</td>\n",
       "      <td>Pakistan</td>\n",
       "      <td>Islamabad</td>\n",
       "      <td>Asia</td>\n",
       "      <td>235824862</td>\n",
       "      <td>227196741</td>\n",
       "      <td>210969298</td>\n",
       "      <td>194454498</td>\n",
       "      <td>154369924</td>\n",
       "      <td>115414069</td>\n",
       "      <td>80624057</td>\n",
       "      <td>59290872</td>\n",
       "      <td>881912</td>\n",
       "      <td>267.4018</td>\n",
       "      <td>1.0191</td>\n",
       "      <td>2.96</td>\n",
       "    </tr>\n",
       "    <tr>\n",
       "      <th>149</th>\n",
       "      <td>6</td>\n",
       "      <td>NGA</td>\n",
       "      <td>Nigeria</td>\n",
       "      <td>Abuja</td>\n",
       "      <td>Africa</td>\n",
       "      <td>218541212</td>\n",
       "      <td>208327405</td>\n",
       "      <td>183995785</td>\n",
       "      <td>160952853</td>\n",
       "      <td>122851984</td>\n",
       "      <td>95214257</td>\n",
       "      <td>72951439</td>\n",
       "      <td>55569264</td>\n",
       "      <td>923768</td>\n",
       "      <td>236.5759</td>\n",
       "      <td>1.0241</td>\n",
       "      <td>2.74</td>\n",
       "    </tr>\n",
       "    <tr>\n",
       "      <th>27</th>\n",
       "      <td>7</td>\n",
       "      <td>BRA</td>\n",
       "      <td>Brazil</td>\n",
       "      <td>Brasilia</td>\n",
       "      <td>South America</td>\n",
       "      <td>215313498</td>\n",
       "      <td>213196304</td>\n",
       "      <td>205188205</td>\n",
       "      <td>196353492</td>\n",
       "      <td>175873720</td>\n",
       "      <td>150706446</td>\n",
       "      <td>122288383</td>\n",
       "      <td>96369875</td>\n",
       "      <td>8515767</td>\n",
       "      <td>25.2841</td>\n",
       "      <td>1.0046</td>\n",
       "      <td>2.70</td>\n",
       "    </tr>\n",
       "    <tr>\n",
       "      <th>16</th>\n",
       "      <td>8</td>\n",
       "      <td>BGD</td>\n",
       "      <td>Bangladesh</td>\n",
       "      <td>Dhaka</td>\n",
       "      <td>Asia</td>\n",
       "      <td>171186372</td>\n",
       "      <td>167420951</td>\n",
       "      <td>157830000</td>\n",
       "      <td>148391139</td>\n",
       "      <td>129193327</td>\n",
       "      <td>107147651</td>\n",
       "      <td>83929765</td>\n",
       "      <td>67541860</td>\n",
       "      <td>147570</td>\n",
       "      <td>1160.0350</td>\n",
       "      <td>1.0108</td>\n",
       "      <td>2.15</td>\n",
       "    </tr>\n",
       "    <tr>\n",
       "      <th>171</th>\n",
       "      <td>9</td>\n",
       "      <td>RUS</td>\n",
       "      <td>Russia</td>\n",
       "      <td>Moscow</td>\n",
       "      <td>Europe</td>\n",
       "      <td>144713314</td>\n",
       "      <td>145617329</td>\n",
       "      <td>144668389</td>\n",
       "      <td>143242599</td>\n",
       "      <td>146844839</td>\n",
       "      <td>148005704</td>\n",
       "      <td>138257420</td>\n",
       "      <td>130093010</td>\n",
       "      <td>17098242</td>\n",
       "      <td>8.4636</td>\n",
       "      <td>0.9973</td>\n",
       "      <td>1.81</td>\n",
       "    </tr>\n",
       "    <tr>\n",
       "      <th>131</th>\n",
       "      <td>10</td>\n",
       "      <td>MEX</td>\n",
       "      <td>Mexico</td>\n",
       "      <td>Mexico City</td>\n",
       "      <td>North America</td>\n",
       "      <td>127504125</td>\n",
       "      <td>125998302</td>\n",
       "      <td>120149897</td>\n",
       "      <td>112532401</td>\n",
       "      <td>97873442</td>\n",
       "      <td>81720428</td>\n",
       "      <td>67705186</td>\n",
       "      <td>50289306</td>\n",
       "      <td>1964375</td>\n",
       "      <td>64.9082</td>\n",
       "      <td>1.0063</td>\n",
       "      <td>1.60</td>\n",
       "    </tr>\n",
       "  </tbody>\n",
       "</table>\n",
       "</div>"
      ],
      "text/plain": [
       "     Rank CCA3        Country           Capital      Continent  \\\n",
       "41      1  CHN          China           Beijing           Asia   \n",
       "92      2  IND          India         New Delhi           Asia   \n",
       "221     3  USA  United States  Washington, D.C.  North America   \n",
       "93      4  IDN      Indonesia           Jakarta           Asia   \n",
       "156     5  PAK       Pakistan         Islamabad           Asia   \n",
       "149     6  NGA        Nigeria             Abuja         Africa   \n",
       "27      7  BRA         Brazil          Brasilia  South America   \n",
       "16      8  BGD     Bangladesh             Dhaka           Asia   \n",
       "171     9  RUS         Russia            Moscow         Europe   \n",
       "131    10  MEX         Mexico       Mexico City  North America   \n",
       "\n",
       "     2022 Population  2020 Population  2015 Population  2010 Population  \\\n",
       "41        1425887337       1424929781       1393715448       1348191368   \n",
       "92        1417173173       1396387127       1322866505       1240613620   \n",
       "221        338289857        335942003        324607776        311182845   \n",
       "93         275501339        271857970        259091970        244016173   \n",
       "156        235824862        227196741        210969298        194454498   \n",
       "149        218541212        208327405        183995785        160952853   \n",
       "27         215313498        213196304        205188205        196353492   \n",
       "16         171186372        167420951        157830000        148391139   \n",
       "171        144713314        145617329        144668389        143242599   \n",
       "131        127504125        125998302        120149897        112532401   \n",
       "\n",
       "     2000 Population  1990 Population  1980 Population  1970 Population  \\\n",
       "41        1264099069       1153704252        982372466        822534450   \n",
       "92        1059633675        870452165        696828385        557501301   \n",
       "221        282398554        248083732        223140018        200328340   \n",
       "93         214072421        182159874        148177096        115228394   \n",
       "156        154369924        115414069         80624057         59290872   \n",
       "149        122851984         95214257         72951439         55569264   \n",
       "27         175873720        150706446        122288383         96369875   \n",
       "16         129193327        107147651         83929765         67541860   \n",
       "171        146844839        148005704        138257420        130093010   \n",
       "131         97873442         81720428         67705186         50289306   \n",
       "\n",
       "     Area (km²)  Density (per km²)  Growth Rate  World Population Percentage  \n",
       "41      9706961           146.8933       1.0000                        17.88  \n",
       "92      3287590           431.0675       1.0068                        17.77  \n",
       "221     9372610            36.0935       1.0038                         4.24  \n",
       "93      1904569           144.6529       1.0064                         3.45  \n",
       "156      881912           267.4018       1.0191                         2.96  \n",
       "149      923768           236.5759       1.0241                         2.74  \n",
       "27      8515767            25.2841       1.0046                         2.70  \n",
       "16       147570          1160.0350       1.0108                         2.15  \n",
       "171    17098242             8.4636       0.9973                         1.81  \n",
       "131     1964375            64.9082       1.0063                         1.60  "
      ]
     },
     "execution_count": 17,
     "metadata": {},
     "output_type": "execute_result"
    }
   ],
   "source": [
    "top10countries = world.nlargest(10,['2022 Population','World Population Percentage'])\n",
    "top10countries"
   ]
  },
  {
   "cell_type": "code",
   "execution_count": 18,
   "id": "c19e3d89",
   "metadata": {
    "execution": {
     "iopub.execute_input": "2022-08-25T21:08:25.331490Z",
     "iopub.status.busy": "2022-08-25T21:08:25.330751Z",
     "iopub.status.idle": "2022-08-25T21:08:25.618456Z",
     "shell.execute_reply": "2022-08-25T21:08:25.617599Z"
    },
    "papermill": {
     "duration": 0.303047,
     "end_time": "2022-08-25T21:08:25.620694",
     "exception": false,
     "start_time": "2022-08-25T21:08:25.317647",
     "status": "completed"
    },
    "tags": []
   },
   "outputs": [
    {
     "data": {
      "text/plain": [
       "Text(0.5, 0, 'World population (%)')"
      ]
     },
     "execution_count": 18,
     "metadata": {},
     "output_type": "execute_result"
    },
    {
     "data": {
      "image/png": "[encoded data removed]",
      "text/plain": [
       "<Figure size 648x432 with 1 Axes>"
      ]
     },
     "metadata": {
      "needs_background": "light"
     },
     "output_type": "display_data"
    }
   ],
   "source": [
    "top10countries.sort_values('World Population Percentage', inplace=True)\n",
    "top10countries.plot(kind='barh',x=\"Country\",y=\"World Population Percentage\",figsize=(9,6))\n",
    "plt.title(\"Top 10 countries with more population\")\n",
    "plt.xlabel(\"World population (%)\")"
   ]
  },
  {
   "cell_type": "markdown",
   "id": "d0cb9dad",
   "metadata": {
    "papermill": {
     "duration": 0.011892,
     "end_time": "2022-08-25T21:08:25.645065",
     "exception": false,
     "start_time": "2022-08-25T21:08:25.633173",
     "status": "completed"
    },
    "tags": []
   },
   "source": [
    "<a id=\"subsection-two-two\"></a>\n",
    "## Top 10 smallest countries"
   ]
  },
  {
   "cell_type": "code",
   "execution_count": 19,
   "id": "94c2d703",
   "metadata": {
    "execution": {
     "iopub.execute_input": "2022-08-25T21:08:25.672502Z",
     "iopub.status.busy": "2022-08-25T21:08:25.671747Z",
     "iopub.status.idle": "2022-08-25T21:08:25.686272Z",
     "shell.execute_reply": "2022-08-25T21:08:25.685496Z"
    },
    "papermill": {
     "duration": 0.031433,
     "end_time": "2022-08-25T21:08:25.688716",
     "exception": false,
     "start_time": "2022-08-25T21:08:25.657283",
     "status": "completed"
    },
    "tags": []
   },
   "outputs": [
    {
     "data": {
      "text/html": [
       "<div>\n",
       "<style scoped>\n",
       "    .dataframe tbody tr th:only-of-type {\n",
       "        vertical-align: middle;\n",
       "    }\n",
       "\n",
       "    .dataframe tbody tr th {\n",
       "        vertical-align: top;\n",
       "    }\n",
       "\n",
       "    .dataframe thead th {\n",
       "        text-align: right;\n",
       "    }\n",
       "</style>\n",
       "<table border=\"1\" class=\"dataframe\">\n",
       "  <thead>\n",
       "    <tr style=\"text-align: right;\">\n",
       "      <th></th>\n",
       "      <th>Country</th>\n",
       "      <th>2022 Population</th>\n",
       "      <th>Area (km²)</th>\n",
       "      <th>Density (per km²)</th>\n",
       "    </tr>\n",
       "  </thead>\n",
       "  <tbody>\n",
       "    <tr>\n",
       "      <th>176</th>\n",
       "      <td>Saint Martin</td>\n",
       "      <td>31791</td>\n",
       "      <td>53</td>\n",
       "      <td>599.8302</td>\n",
       "    </tr>\n",
       "    <tr>\n",
       "      <th>188</th>\n",
       "      <td>Sint Maarten</td>\n",
       "      <td>44175</td>\n",
       "      <td>34</td>\n",
       "      <td>1299.2647</td>\n",
       "    </tr>\n",
       "    <tr>\n",
       "      <th>119</th>\n",
       "      <td>Macau</td>\n",
       "      <td>695168</td>\n",
       "      <td>30</td>\n",
       "      <td>23172.2667</td>\n",
       "    </tr>\n",
       "    <tr>\n",
       "      <th>216</th>\n",
       "      <td>Tuvalu</td>\n",
       "      <td>11312</td>\n",
       "      <td>26</td>\n",
       "      <td>435.0769</td>\n",
       "    </tr>\n",
       "    <tr>\n",
       "      <th>142</th>\n",
       "      <td>Nauru</td>\n",
       "      <td>12668</td>\n",
       "      <td>21</td>\n",
       "      <td>603.2381</td>\n",
       "    </tr>\n",
       "    <tr>\n",
       "      <th>173</th>\n",
       "      <td>Saint Barthelemy</td>\n",
       "      <td>10967</td>\n",
       "      <td>21</td>\n",
       "      <td>522.2381</td>\n",
       "    </tr>\n",
       "    <tr>\n",
       "      <th>209</th>\n",
       "      <td>Tokelau</td>\n",
       "      <td>1871</td>\n",
       "      <td>12</td>\n",
       "      <td>155.9167</td>\n",
       "    </tr>\n",
       "    <tr>\n",
       "      <th>76</th>\n",
       "      <td>Gibraltar</td>\n",
       "      <td>32649</td>\n",
       "      <td>6</td>\n",
       "      <td>5441.5000</td>\n",
       "    </tr>\n",
       "    <tr>\n",
       "      <th>134</th>\n",
       "      <td>Monaco</td>\n",
       "      <td>36469</td>\n",
       "      <td>2</td>\n",
       "      <td>18234.5000</td>\n",
       "    </tr>\n",
       "    <tr>\n",
       "      <th>226</th>\n",
       "      <td>Vatican City</td>\n",
       "      <td>510</td>\n",
       "      <td>1</td>\n",
       "      <td>510.0000</td>\n",
       "    </tr>\n",
       "  </tbody>\n",
       "</table>\n",
       "</div>"
      ],
      "text/plain": [
       "              Country  2022 Population  Area (km²)  Density (per km²)\n",
       "176      Saint Martin            31791          53           599.8302\n",
       "188      Sint Maarten            44175          34          1299.2647\n",
       "119             Macau           695168          30         23172.2667\n",
       "216            Tuvalu            11312          26           435.0769\n",
       "142             Nauru            12668          21           603.2381\n",
       "173  Saint Barthelemy            10967          21           522.2381\n",
       "209           Tokelau             1871          12           155.9167\n",
       "76          Gibraltar            32649           6          5441.5000\n",
       "134            Monaco            36469           2         18234.5000\n",
       "226      Vatican City              510           1           510.0000"
      ]
     },
     "execution_count": 19,
     "metadata": {},
     "output_type": "execute_result"
    }
   ],
   "source": [
    "top10smallest= world.nsmallest(10,['Area (km²)']).sort_values(by='Area (km²)',ascending=False)\n",
    "top10smallest= top10smallest.loc[:,['Country','2022 Population','Area (km²)','Density (per km²)']]\n",
    "top10smallest"
   ]
  },
  {
   "cell_type": "code",
   "execution_count": 20,
   "id": "4125c29f",
   "metadata": {
    "execution": {
     "iopub.execute_input": "2022-08-25T21:08:25.715914Z",
     "iopub.status.busy": "2022-08-25T21:08:25.715056Z",
     "iopub.status.idle": "2022-08-25T21:08:25.954986Z",
     "shell.execute_reply": "2022-08-25T21:08:25.954104Z"
    },
    "papermill": {
     "duration": 0.256112,
     "end_time": "2022-08-25T21:08:25.957386",
     "exception": false,
     "start_time": "2022-08-25T21:08:25.701274",
     "status": "completed"
    },
    "tags": []
   },
   "outputs": [
    {
     "data": {
      "text/plain": [
       "Text(0.5, 1.0, 'Smallest countries in the world')"
      ]
     },
     "execution_count": 20,
     "metadata": {},
     "output_type": "execute_result"
    },
    {
     "data": {
      "image/png": "[encoded data removed]",
      "text/plain": [
       "<Figure size 576x432 with 1 Axes>"
      ]
     },
     "metadata": {
      "needs_background": "light"
     },
     "output_type": "display_data"
    }
   ],
   "source": [
    "top10smallest.plot(kind='barh',x='Country',y='Area (km²)',figsize=(8,6))\n",
    "plt.xlabel(\"Area\")\n",
    "plt.title(\"Smallest countries in the world\")"
   ]
  },
  {
   "cell_type": "markdown",
   "id": "ad34d8d3",
   "metadata": {
    "papermill": {
     "duration": 0.013258,
     "end_time": "2022-08-25T21:08:25.983647",
     "exception": false,
     "start_time": "2022-08-25T21:08:25.970389",
     "status": "completed"
    },
    "tags": []
   },
   "source": [
    "<a id=\"subsection-two-three\"></a>\n",
    "## Population growth from 1970 to 2020"
   ]
  },
  {
   "cell_type": "code",
   "execution_count": 21,
   "id": "236015ed",
   "metadata": {
    "execution": {
     "iopub.execute_input": "2022-08-25T21:08:26.012888Z",
     "iopub.status.busy": "2022-08-25T21:08:26.011979Z",
     "iopub.status.idle": "2022-08-25T21:08:26.022032Z",
     "shell.execute_reply": "2022-08-25T21:08:26.020666Z"
    },
    "papermill": {
     "duration": 0.027882,
     "end_time": "2022-08-25T21:08:26.024690",
     "exception": false,
     "start_time": "2022-08-25T21:08:25.996808",
     "status": "completed"
    },
    "tags": []
   },
   "outputs": [
    {
     "data": {
      "text/plain": [
       "array(['Country', 'Continent', '2020 Population', '1970 Population'],\n",
       "      dtype=object)"
      ]
     },
     "execution_count": 21,
     "metadata": {},
     "output_type": "execute_result"
    }
   ],
   "source": [
    "world_growth_50year=world.loc[:,['Country','Continent','2020 Population','1970 Population']]\n",
    "world_growth_50year.columns.values"
   ]
  },
  {
   "cell_type": "code",
   "execution_count": 22,
   "id": "ea5e593b",
   "metadata": {
    "execution": {
     "iopub.execute_input": "2022-08-25T21:08:26.052968Z",
     "iopub.status.busy": "2022-08-25T21:08:26.052563Z",
     "iopub.status.idle": "2022-08-25T21:08:26.073483Z",
     "shell.execute_reply": "2022-08-25T21:08:26.072647Z"
    },
    "papermill": {
     "duration": 0.037385,
     "end_time": "2022-08-25T21:08:26.075416",
     "exception": false,
     "start_time": "2022-08-25T21:08:26.038031",
     "status": "completed"
    },
    "tags": []
   },
   "outputs": [
    {
     "data": {
      "text/html": [
       "<div>\n",
       "<style scoped>\n",
       "    .dataframe tbody tr th:only-of-type {\n",
       "        vertical-align: middle;\n",
       "    }\n",
       "\n",
       "    .dataframe tbody tr th {\n",
       "        vertical-align: top;\n",
       "    }\n",
       "\n",
       "    .dataframe thead th {\n",
       "        text-align: right;\n",
       "    }\n",
       "</style>\n",
       "<table border=\"1\" class=\"dataframe\">\n",
       "  <thead>\n",
       "    <tr style=\"text-align: right;\">\n",
       "      <th></th>\n",
       "      <th>Country</th>\n",
       "      <th>2020 Population</th>\n",
       "      <th>1970 Population</th>\n",
       "      <th>50 Year Growth [%]</th>\n",
       "    </tr>\n",
       "  </thead>\n",
       "  <tbody>\n",
       "    <tr>\n",
       "      <th>219</th>\n",
       "      <td>United Arab Emirates</td>\n",
       "      <td>9287289</td>\n",
       "      <td>298084</td>\n",
       "      <td>31.156617</td>\n",
       "    </tr>\n",
       "    <tr>\n",
       "      <th>167</th>\n",
       "      <td>Qatar</td>\n",
       "      <td>2760385</td>\n",
       "      <td>118007</td>\n",
       "      <td>23.391706</td>\n",
       "    </tr>\n",
       "    <tr>\n",
       "      <th>130</th>\n",
       "      <td>Mayotte</td>\n",
       "      <td>305587</td>\n",
       "      <td>35383</td>\n",
       "      <td>8.636549</td>\n",
       "    </tr>\n",
       "    <tr>\n",
       "      <th>215</th>\n",
       "      <td>Turks and Caicos Islands</td>\n",
       "      <td>44276</td>\n",
       "      <td>5665</td>\n",
       "      <td>7.815711</td>\n",
       "    </tr>\n",
       "    <tr>\n",
       "      <th>52</th>\n",
       "      <td>Djibouti</td>\n",
       "      <td>1090156</td>\n",
       "      <td>144379</td>\n",
       "      <td>7.550655</td>\n",
       "    </tr>\n",
       "    <tr>\n",
       "      <th>...</th>\n",
       "      <td>...</td>\n",
       "      <td>...</td>\n",
       "      <td>...</td>\n",
       "      <td>...</td>\n",
       "    </tr>\n",
       "    <tr>\n",
       "      <th>111</th>\n",
       "      <td>Latvia</td>\n",
       "      <td>1897052</td>\n",
       "      <td>2397414</td>\n",
       "      <td>0.791291</td>\n",
       "    </tr>\n",
       "    <tr>\n",
       "      <th>73</th>\n",
       "      <td>Georgia</td>\n",
       "      <td>3765912</td>\n",
       "      <td>4800426</td>\n",
       "      <td>0.784495</td>\n",
       "    </tr>\n",
       "    <tr>\n",
       "      <th>226</th>\n",
       "      <td>Vatican City</td>\n",
       "      <td>520</td>\n",
       "      <td>752</td>\n",
       "      <td>0.691489</td>\n",
       "    </tr>\n",
       "    <tr>\n",
       "      <th>137</th>\n",
       "      <td>Montserrat</td>\n",
       "      <td>4500</td>\n",
       "      <td>11402</td>\n",
       "      <td>0.394668</td>\n",
       "    </tr>\n",
       "    <tr>\n",
       "      <th>150</th>\n",
       "      <td>Niue</td>\n",
       "      <td>1942</td>\n",
       "      <td>5185</td>\n",
       "      <td>0.374542</td>\n",
       "    </tr>\n",
       "  </tbody>\n",
       "</table>\n",
       "<p>234 rows × 4 columns</p>\n",
       "</div>"
      ],
      "text/plain": [
       "                      Country  2020 Population  1970 Population  \\\n",
       "219      United Arab Emirates          9287289           298084   \n",
       "167                     Qatar          2760385           118007   \n",
       "130                   Mayotte           305587            35383   \n",
       "215  Turks and Caicos Islands            44276             5665   \n",
       "52                   Djibouti          1090156           144379   \n",
       "..                        ...              ...              ...   \n",
       "111                    Latvia          1897052          2397414   \n",
       "73                    Georgia          3765912          4800426   \n",
       "226              Vatican City              520              752   \n",
       "137                Montserrat             4500            11402   \n",
       "150                      Niue             1942             5185   \n",
       "\n",
       "     50 Year Growth [%]  \n",
       "219           31.156617  \n",
       "167           23.391706  \n",
       "130            8.636549  \n",
       "215            7.815711  \n",
       "52             7.550655  \n",
       "..                  ...  \n",
       "111            0.791291  \n",
       "73             0.784495  \n",
       "226            0.691489  \n",
       "137            0.394668  \n",
       "150            0.374542  \n",
       "\n",
       "[234 rows x 4 columns]"
      ]
     },
     "execution_count": 22,
     "metadata": {},
     "output_type": "execute_result"
    }
   ],
   "source": [
    "world_growth_50year['50 Year Growth [%]'] = world_growth_50year['2020 Population'] / world_growth_50year['1970 Population']\n",
    "world_growth_50year.loc[:,['Country','2020 Population','1970 Population','50 Year Growth [%]']].sort_values(by='50 Year Growth [%]',ascending=False)"
   ]
  },
  {
   "cell_type": "code",
   "execution_count": 23,
   "id": "41effea4",
   "metadata": {
    "execution": {
     "iopub.execute_input": "2022-08-25T21:08:26.105168Z",
     "iopub.status.busy": "2022-08-25T21:08:26.104459Z",
     "iopub.status.idle": "2022-08-25T21:08:26.111085Z",
     "shell.execute_reply": "2022-08-25T21:08:26.109831Z"
    },
    "papermill": {
     "duration": 0.024037,
     "end_time": "2022-08-25T21:08:26.113713",
     "exception": false,
     "start_time": "2022-08-25T21:08:26.089676",
     "status": "completed"
    },
    "tags": []
   },
   "outputs": [],
   "source": [
    "top10growth = world_growth_50year.sort_values(by='50 Year Growth [%]',ascending=False).head(10)\n",
    "last10growth = world_growth_50year.sort_values(by='50 Year Growth [%]',ascending=False).tail(10)"
   ]
  },
  {
   "cell_type": "code",
   "execution_count": 24,
   "id": "a7954e06",
   "metadata": {
    "execution": {
     "iopub.execute_input": "2022-08-25T21:08:26.143207Z",
     "iopub.status.busy": "2022-08-25T21:08:26.142794Z",
     "iopub.status.idle": "2022-08-25T21:08:26.158884Z",
     "shell.execute_reply": "2022-08-25T21:08:26.157497Z"
    },
    "papermill": {
     "duration": 0.0339,
     "end_time": "2022-08-25T21:08:26.161373",
     "exception": false,
     "start_time": "2022-08-25T21:08:26.127473",
     "status": "completed"
    },
    "tags": []
   },
   "outputs": [
    {
     "name": "stderr",
     "output_type": "stream",
     "text": [
      "C:\\Users\\Mano\\AppData\\Local\\Temp\\ipykernel_1128\\4174707082.py:1: FutureWarning: The frame.append method is deprecated and will be removed from pandas in a future version. Use pandas.concat instead.\n",
      "  world_growth = top10growth.append(last10growth, ignore_index=True)\n"
     ]
    },
    {
     "data": {
      "text/html": [
       "<div>\n",
       "<style scoped>\n",
       "    .dataframe tbody tr th:only-of-type {\n",
       "        vertical-align: middle;\n",
       "    }\n",
       "\n",
       "    .dataframe tbody tr th {\n",
       "        vertical-align: top;\n",
       "    }\n",
       "\n",
       "    .dataframe thead th {\n",
       "        text-align: right;\n",
       "    }\n",
       "</style>\n",
       "<table border=\"1\" class=\"dataframe\">\n",
       "  <thead>\n",
       "    <tr style=\"text-align: right;\">\n",
       "      <th></th>\n",
       "      <th>Country</th>\n",
       "      <th>Continent</th>\n",
       "      <th>2020 Population</th>\n",
       "      <th>1970 Population</th>\n",
       "      <th>50 Year Growth [%]</th>\n",
       "    </tr>\n",
       "  </thead>\n",
       "  <tbody>\n",
       "    <tr>\n",
       "      <th>0</th>\n",
       "      <td>United Arab Emirates</td>\n",
       "      <td>Asia</td>\n",
       "      <td>9287289</td>\n",
       "      <td>298084</td>\n",
       "      <td>31.156617</td>\n",
       "    </tr>\n",
       "    <tr>\n",
       "      <th>1</th>\n",
       "      <td>Qatar</td>\n",
       "      <td>Asia</td>\n",
       "      <td>2760385</td>\n",
       "      <td>118007</td>\n",
       "      <td>23.391706</td>\n",
       "    </tr>\n",
       "    <tr>\n",
       "      <th>2</th>\n",
       "      <td>Mayotte</td>\n",
       "      <td>Africa</td>\n",
       "      <td>305587</td>\n",
       "      <td>35383</td>\n",
       "      <td>8.636549</td>\n",
       "    </tr>\n",
       "    <tr>\n",
       "      <th>3</th>\n",
       "      <td>Turks and Caicos Islands</td>\n",
       "      <td>North America</td>\n",
       "      <td>44276</td>\n",
       "      <td>5665</td>\n",
       "      <td>7.815711</td>\n",
       "    </tr>\n",
       "    <tr>\n",
       "      <th>4</th>\n",
       "      <td>Djibouti</td>\n",
       "      <td>Africa</td>\n",
       "      <td>1090156</td>\n",
       "      <td>144379</td>\n",
       "      <td>7.550655</td>\n",
       "    </tr>\n",
       "    <tr>\n",
       "      <th>5</th>\n",
       "      <td>Western Sahara</td>\n",
       "      <td>Africa</td>\n",
       "      <td>556048</td>\n",
       "      <td>76371</td>\n",
       "      <td>7.280879</td>\n",
       "    </tr>\n",
       "    <tr>\n",
       "      <th>6</th>\n",
       "      <td>Jordan</td>\n",
       "      <td>Asia</td>\n",
       "      <td>10928721</td>\n",
       "      <td>1557374</td>\n",
       "      <td>7.017403</td>\n",
       "    </tr>\n",
       "    <tr>\n",
       "      <th>7</th>\n",
       "      <td>Sint Maarten</td>\n",
       "      <td>North America</td>\n",
       "      <td>43621</td>\n",
       "      <td>6260</td>\n",
       "      <td>6.968211</td>\n",
       "    </tr>\n",
       "    <tr>\n",
       "      <th>8</th>\n",
       "      <td>Oman</td>\n",
       "      <td>Asia</td>\n",
       "      <td>4543399</td>\n",
       "      <td>670693</td>\n",
       "      <td>6.774186</td>\n",
       "    </tr>\n",
       "    <tr>\n",
       "      <th>9</th>\n",
       "      <td>Bahrain</td>\n",
       "      <td>Asia</td>\n",
       "      <td>1477469</td>\n",
       "      <td>222555</td>\n",
       "      <td>6.638669</td>\n",
       "    </tr>\n",
       "    <tr>\n",
       "      <th>10</th>\n",
       "      <td>Lithuania</td>\n",
       "      <td>Europe</td>\n",
       "      <td>2820267</td>\n",
       "      <td>3210147</td>\n",
       "      <td>0.878548</td>\n",
       "    </tr>\n",
       "    <tr>\n",
       "      <th>11</th>\n",
       "      <td>Bosnia and Herzegovina</td>\n",
       "      <td>Europe</td>\n",
       "      <td>3318407</td>\n",
       "      <td>3815561</td>\n",
       "      <td>0.869704</td>\n",
       "    </tr>\n",
       "    <tr>\n",
       "      <th>12</th>\n",
       "      <td>Cook Islands</td>\n",
       "      <td>Oceania</td>\n",
       "      <td>17029</td>\n",
       "      <td>20470</td>\n",
       "      <td>0.831900</td>\n",
       "    </tr>\n",
       "    <tr>\n",
       "      <th>13</th>\n",
       "      <td>Moldova</td>\n",
       "      <td>Europe</td>\n",
       "      <td>3084847</td>\n",
       "      <td>3711140</td>\n",
       "      <td>0.831240</td>\n",
       "    </tr>\n",
       "    <tr>\n",
       "      <th>14</th>\n",
       "      <td>Bulgaria</td>\n",
       "      <td>Europe</td>\n",
       "      <td>6979175</td>\n",
       "      <td>8582950</td>\n",
       "      <td>0.813144</td>\n",
       "    </tr>\n",
       "    <tr>\n",
       "      <th>15</th>\n",
       "      <td>Latvia</td>\n",
       "      <td>Europe</td>\n",
       "      <td>1897052</td>\n",
       "      <td>2397414</td>\n",
       "      <td>0.791291</td>\n",
       "    </tr>\n",
       "    <tr>\n",
       "      <th>16</th>\n",
       "      <td>Georgia</td>\n",
       "      <td>Asia</td>\n",
       "      <td>3765912</td>\n",
       "      <td>4800426</td>\n",
       "      <td>0.784495</td>\n",
       "    </tr>\n",
       "    <tr>\n",
       "      <th>17</th>\n",
       "      <td>Vatican City</td>\n",
       "      <td>Europe</td>\n",
       "      <td>520</td>\n",
       "      <td>752</td>\n",
       "      <td>0.691489</td>\n",
       "    </tr>\n",
       "    <tr>\n",
       "      <th>18</th>\n",
       "      <td>Montserrat</td>\n",
       "      <td>North America</td>\n",
       "      <td>4500</td>\n",
       "      <td>11402</td>\n",
       "      <td>0.394668</td>\n",
       "    </tr>\n",
       "    <tr>\n",
       "      <th>19</th>\n",
       "      <td>Niue</td>\n",
       "      <td>Oceania</td>\n",
       "      <td>1942</td>\n",
       "      <td>5185</td>\n",
       "      <td>0.374542</td>\n",
       "    </tr>\n",
       "  </tbody>\n",
       "</table>\n",
       "</div>"
      ],
      "text/plain": [
       "                     Country      Continent  2020 Population  1970 Population  \\\n",
       "0       United Arab Emirates           Asia          9287289           298084   \n",
       "1                      Qatar           Asia          2760385           118007   \n",
       "2                    Mayotte         Africa           305587            35383   \n",
       "3   Turks and Caicos Islands  North America            44276             5665   \n",
       "4                   Djibouti         Africa          1090156           144379   \n",
       "5             Western Sahara         Africa           556048            76371   \n",
       "6                     Jordan           Asia         10928721          1557374   \n",
       "7               Sint Maarten  North America            43621             6260   \n",
       "8                       Oman           Asia          4543399           670693   \n",
       "9                    Bahrain           Asia          1477469           222555   \n",
       "10                 Lithuania         Europe          2820267          3210147   \n",
       "11    Bosnia and Herzegovina         Europe          3318407          3815561   \n",
       "12              Cook Islands        Oceania            17029            20470   \n",
       "13                   Moldova         Europe          3084847          3711140   \n",
       "14                  Bulgaria         Europe          6979175          8582950   \n",
       "15                    Latvia         Europe          1897052          2397414   \n",
       "16                   Georgia           Asia          3765912          4800426   \n",
       "17              Vatican City         Europe              520              752   \n",
       "18                Montserrat  North America             4500            11402   \n",
       "19                      Niue        Oceania             1942             5185   \n",
       "\n",
       "    50 Year Growth [%]  \n",
       "0            31.156617  \n",
       "1            23.391706  \n",
       "2             8.636549  \n",
       "3             7.815711  \n",
       "4             7.550655  \n",
       "5             7.280879  \n",
       "6             7.017403  \n",
       "7             6.968211  \n",
       "8             6.774186  \n",
       "9             6.638669  \n",
       "10            0.878548  \n",
       "11            0.869704  \n",
       "12            0.831900  \n",
       "13            0.831240  \n",
       "14            0.813144  \n",
       "15            0.791291  \n",
       "16            0.784495  \n",
       "17            0.691489  \n",
       "18            0.394668  \n",
       "19            0.374542  "
      ]
     },
     "execution_count": 24,
     "metadata": {},
     "output_type": "execute_result"
    }
   ],
   "source": [
    "world_growth = top10growth.append(last10growth, ignore_index=True)\n",
    "world_growth"
   ]
  },
  {
   "cell_type": "markdown",
   "id": "abc992d7",
   "metadata": {
    "papermill": {
     "duration": 0.013664,
     "end_time": "2022-08-25T21:08:26.189215",
     "exception": false,
     "start_time": "2022-08-25T21:08:26.175551",
     "status": "completed"
    },
    "tags": []
   },
   "source": [
    "<a id=\"subsection-two-four\"></a>\n",
    "## Countries that represent a % of world population"
   ]
  },
  {
   "cell_type": "markdown",
   "id": "b1dca898",
   "metadata": {
    "papermill": {
     "duration": 0.013626,
     "end_time": "2022-08-25T21:08:26.216865",
     "exception": false,
     "start_time": "2022-08-25T21:08:26.203239",
     "status": "completed"
    },
    "tags": []
   },
   "source": [
    "### Countries that represent less than 0.1% of the world population."
   ]
  },
  {
   "cell_type": "code",
   "execution_count": 25,
   "id": "e721d4b4",
   "metadata": {
    "execution": {
     "iopub.execute_input": "2022-08-25T21:08:26.247283Z",
     "iopub.status.busy": "2022-08-25T21:08:26.246216Z",
     "iopub.status.idle": "2022-08-25T21:08:26.256090Z",
     "shell.execute_reply": "2022-08-25T21:08:26.254887Z"
    },
    "papermill": {
     "duration": 0.027398,
     "end_time": "2022-08-25T21:08:26.258514",
     "exception": false,
     "start_time": "2022-08-25T21:08:26.231116",
     "status": "completed"
    },
    "tags": []
   },
   "outputs": [
    {
     "data": {
      "text/plain": [
       "132"
      ]
     },
     "execution_count": 25,
     "metadata": {},
     "output_type": "execute_result"
    }
   ],
   "source": [
    "world[world['World Population Percentage'] < 0.1]['Country'].size"
   ]
  },
  {
   "cell_type": "markdown",
   "id": "eb072f63",
   "metadata": {
    "papermill": {
     "duration": 0.013808,
     "end_time": "2022-08-25T21:08:26.286408",
     "exception": false,
     "start_time": "2022-08-25T21:08:26.272600",
     "status": "completed"
    },
    "tags": []
   },
   "source": [
    "### Countries that represent more than 2% of the world population."
   ]
  },
  {
   "cell_type": "code",
   "execution_count": 26,
   "id": "4c375327",
   "metadata": {
    "execution": {
     "iopub.execute_input": "2022-08-25T21:08:26.316146Z",
     "iopub.status.busy": "2022-08-25T21:08:26.315761Z",
     "iopub.status.idle": "2022-08-25T21:08:26.337596Z",
     "shell.execute_reply": "2022-08-25T21:08:26.336735Z"
    },
    "papermill": {
     "duration": 0.039159,
     "end_time": "2022-08-25T21:08:26.339747",
     "exception": false,
     "start_time": "2022-08-25T21:08:26.300588",
     "status": "completed"
    },
    "tags": []
   },
   "outputs": [
    {
     "data": {
      "text/html": [
       "<div>\n",
       "<style scoped>\n",
       "    .dataframe tbody tr th:only-of-type {\n",
       "        vertical-align: middle;\n",
       "    }\n",
       "\n",
       "    .dataframe tbody tr th {\n",
       "        vertical-align: top;\n",
       "    }\n",
       "\n",
       "    .dataframe thead th {\n",
       "        text-align: right;\n",
       "    }\n",
       "</style>\n",
       "<table border=\"1\" class=\"dataframe\">\n",
       "  <thead>\n",
       "    <tr style=\"text-align: right;\">\n",
       "      <th></th>\n",
       "      <th>Rank</th>\n",
       "      <th>CCA3</th>\n",
       "      <th>Country</th>\n",
       "      <th>Capital</th>\n",
       "      <th>Continent</th>\n",
       "      <th>2022 Population</th>\n",
       "      <th>2020 Population</th>\n",
       "      <th>2015 Population</th>\n",
       "      <th>2010 Population</th>\n",
       "      <th>2000 Population</th>\n",
       "      <th>1990 Population</th>\n",
       "      <th>1980 Population</th>\n",
       "      <th>1970 Population</th>\n",
       "      <th>Area (km²)</th>\n",
       "      <th>Density (per km²)</th>\n",
       "      <th>Growth Rate</th>\n",
       "      <th>World Population Percentage</th>\n",
       "    </tr>\n",
       "  </thead>\n",
       "  <tbody>\n",
       "    <tr>\n",
       "      <th>41</th>\n",
       "      <td>1</td>\n",
       "      <td>CHN</td>\n",
       "      <td>China</td>\n",
       "      <td>Beijing</td>\n",
       "      <td>Asia</td>\n",
       "      <td>1425887337</td>\n",
       "      <td>1424929781</td>\n",
       "      <td>1393715448</td>\n",
       "      <td>1348191368</td>\n",
       "      <td>1264099069</td>\n",
       "      <td>1153704252</td>\n",
       "      <td>982372466</td>\n",
       "      <td>822534450</td>\n",
       "      <td>9706961</td>\n",
       "      <td>146.8933</td>\n",
       "      <td>1.0000</td>\n",
       "      <td>17.88</td>\n",
       "    </tr>\n",
       "    <tr>\n",
       "      <th>92</th>\n",
       "      <td>2</td>\n",
       "      <td>IND</td>\n",
       "      <td>India</td>\n",
       "      <td>New Delhi</td>\n",
       "      <td>Asia</td>\n",
       "      <td>1417173173</td>\n",
       "      <td>1396387127</td>\n",
       "      <td>1322866505</td>\n",
       "      <td>1240613620</td>\n",
       "      <td>1059633675</td>\n",
       "      <td>870452165</td>\n",
       "      <td>696828385</td>\n",
       "      <td>557501301</td>\n",
       "      <td>3287590</td>\n",
       "      <td>431.0675</td>\n",
       "      <td>1.0068</td>\n",
       "      <td>17.77</td>\n",
       "    </tr>\n",
       "    <tr>\n",
       "      <th>221</th>\n",
       "      <td>3</td>\n",
       "      <td>USA</td>\n",
       "      <td>United States</td>\n",
       "      <td>Washington, D.C.</td>\n",
       "      <td>North America</td>\n",
       "      <td>338289857</td>\n",
       "      <td>335942003</td>\n",
       "      <td>324607776</td>\n",
       "      <td>311182845</td>\n",
       "      <td>282398554</td>\n",
       "      <td>248083732</td>\n",
       "      <td>223140018</td>\n",
       "      <td>200328340</td>\n",
       "      <td>9372610</td>\n",
       "      <td>36.0935</td>\n",
       "      <td>1.0038</td>\n",
       "      <td>4.24</td>\n",
       "    </tr>\n",
       "    <tr>\n",
       "      <th>93</th>\n",
       "      <td>4</td>\n",
       "      <td>IDN</td>\n",
       "      <td>Indonesia</td>\n",
       "      <td>Jakarta</td>\n",
       "      <td>Asia</td>\n",
       "      <td>275501339</td>\n",
       "      <td>271857970</td>\n",
       "      <td>259091970</td>\n",
       "      <td>244016173</td>\n",
       "      <td>214072421</td>\n",
       "      <td>182159874</td>\n",
       "      <td>148177096</td>\n",
       "      <td>115228394</td>\n",
       "      <td>1904569</td>\n",
       "      <td>144.6529</td>\n",
       "      <td>1.0064</td>\n",
       "      <td>3.45</td>\n",
       "    </tr>\n",
       "    <tr>\n",
       "      <th>156</th>\n",
       "      <td>5</td>\n",
       "      <td>PAK</td>\n",
       "      <td>Pakistan</td>\n",
       "      <td>Islamabad</td>\n",
       "      <td>Asia</td>\n",
       "      <td>235824862</td>\n",
       "      <td>227196741</td>\n",
       "      <td>210969298</td>\n",
       "      <td>194454498</td>\n",
       "      <td>154369924</td>\n",
       "      <td>115414069</td>\n",
       "      <td>80624057</td>\n",
       "      <td>59290872</td>\n",
       "      <td>881912</td>\n",
       "      <td>267.4018</td>\n",
       "      <td>1.0191</td>\n",
       "      <td>2.96</td>\n",
       "    </tr>\n",
       "    <tr>\n",
       "      <th>149</th>\n",
       "      <td>6</td>\n",
       "      <td>NGA</td>\n",
       "      <td>Nigeria</td>\n",
       "      <td>Abuja</td>\n",
       "      <td>Africa</td>\n",
       "      <td>218541212</td>\n",
       "      <td>208327405</td>\n",
       "      <td>183995785</td>\n",
       "      <td>160952853</td>\n",
       "      <td>122851984</td>\n",
       "      <td>95214257</td>\n",
       "      <td>72951439</td>\n",
       "      <td>55569264</td>\n",
       "      <td>923768</td>\n",
       "      <td>236.5759</td>\n",
       "      <td>1.0241</td>\n",
       "      <td>2.74</td>\n",
       "    </tr>\n",
       "    <tr>\n",
       "      <th>27</th>\n",
       "      <td>7</td>\n",
       "      <td>BRA</td>\n",
       "      <td>Brazil</td>\n",
       "      <td>Brasilia</td>\n",
       "      <td>South America</td>\n",
       "      <td>215313498</td>\n",
       "      <td>213196304</td>\n",
       "      <td>205188205</td>\n",
       "      <td>196353492</td>\n",
       "      <td>175873720</td>\n",
       "      <td>150706446</td>\n",
       "      <td>122288383</td>\n",
       "      <td>96369875</td>\n",
       "      <td>8515767</td>\n",
       "      <td>25.2841</td>\n",
       "      <td>1.0046</td>\n",
       "      <td>2.70</td>\n",
       "    </tr>\n",
       "    <tr>\n",
       "      <th>16</th>\n",
       "      <td>8</td>\n",
       "      <td>BGD</td>\n",
       "      <td>Bangladesh</td>\n",
       "      <td>Dhaka</td>\n",
       "      <td>Asia</td>\n",
       "      <td>171186372</td>\n",
       "      <td>167420951</td>\n",
       "      <td>157830000</td>\n",
       "      <td>148391139</td>\n",
       "      <td>129193327</td>\n",
       "      <td>107147651</td>\n",
       "      <td>83929765</td>\n",
       "      <td>67541860</td>\n",
       "      <td>147570</td>\n",
       "      <td>1160.0350</td>\n",
       "      <td>1.0108</td>\n",
       "      <td>2.15</td>\n",
       "    </tr>\n",
       "  </tbody>\n",
       "</table>\n",
       "</div>"
      ],
      "text/plain": [
       "     Rank CCA3        Country           Capital      Continent  \\\n",
       "41      1  CHN          China           Beijing           Asia   \n",
       "92      2  IND          India         New Delhi           Asia   \n",
       "221     3  USA  United States  Washington, D.C.  North America   \n",
       "93      4  IDN      Indonesia           Jakarta           Asia   \n",
       "156     5  PAK       Pakistan         Islamabad           Asia   \n",
       "149     6  NGA        Nigeria             Abuja         Africa   \n",
       "27      7  BRA         Brazil          Brasilia  South America   \n",
       "16      8  BGD     Bangladesh             Dhaka           Asia   \n",
       "\n",
       "     2022 Population  2020 Population  2015 Population  2010 Population  \\\n",
       "41        1425887337       1424929781       1393715448       1348191368   \n",
       "92        1417173173       1396387127       1322866505       1240613620   \n",
       "221        338289857        335942003        324607776        311182845   \n",
       "93         275501339        271857970        259091970        244016173   \n",
       "156        235824862        227196741        210969298        194454498   \n",
       "149        218541212        208327405        183995785        160952853   \n",
       "27         215313498        213196304        205188205        196353492   \n",
       "16         171186372        167420951        157830000        148391139   \n",
       "\n",
       "     2000 Population  1990 Population  1980 Population  1970 Population  \\\n",
       "41        1264099069       1153704252        982372466        822534450   \n",
       "92        1059633675        870452165        696828385        557501301   \n",
       "221        282398554        248083732        223140018        200328340   \n",
       "93         214072421        182159874        148177096        115228394   \n",
       "156        154369924        115414069         80624057         59290872   \n",
       "149        122851984         95214257         72951439         55569264   \n",
       "27         175873720        150706446        122288383         96369875   \n",
       "16         129193327        107147651         83929765         67541860   \n",
       "\n",
       "     Area (km²)  Density (per km²)  Growth Rate  World Population Percentage  \n",
       "41      9706961           146.8933       1.0000                        17.88  \n",
       "92      3287590           431.0675       1.0068                        17.77  \n",
       "221     9372610            36.0935       1.0038                         4.24  \n",
       "93      1904569           144.6529       1.0064                         3.45  \n",
       "156      881912           267.4018       1.0191                         2.96  \n",
       "149      923768           236.5759       1.0241                         2.74  \n",
       "27      8515767            25.2841       1.0046                         2.70  \n",
       "16       147570          1160.0350       1.0108                         2.15  "
      ]
     },
     "execution_count": 26,
     "metadata": {},
     "output_type": "execute_result"
    }
   ],
   "source": [
    "world[world['World Population Percentage'] > 2].sort_values(by='Rank')"
   ]
  },
  {
   "cell_type": "markdown",
   "id": "f552be82",
   "metadata": {
    "papermill": {
     "duration": 0.01396,
     "end_time": "2022-08-25T21:08:26.368596",
     "exception": false,
     "start_time": "2022-08-25T21:08:26.354636",
     "status": "completed"
    },
    "tags": []
   },
   "source": [
    "<a id=\"subsection-two-five\"></a>\n",
    "## Overpopulated countries"
   ]
  },
  {
   "cell_type": "code",
   "execution_count": 27,
   "id": "9c6aade1",
   "metadata": {
    "execution": {
     "iopub.execute_input": "2022-08-25T21:08:26.402654Z",
     "iopub.status.busy": "2022-08-25T21:08:26.402222Z",
     "iopub.status.idle": "2022-08-25T21:08:26.416124Z",
     "shell.execute_reply": "2022-08-25T21:08:26.414983Z"
    },
    "papermill": {
     "duration": 0.034909,
     "end_time": "2022-08-25T21:08:26.418519",
     "exception": false,
     "start_time": "2022-08-25T21:08:26.383610",
     "status": "completed"
    },
    "tags": []
   },
   "outputs": [
    {
     "data": {
      "text/html": [
       "<div>\n",
       "<style scoped>\n",
       "    .dataframe tbody tr th:only-of-type {\n",
       "        vertical-align: middle;\n",
       "    }\n",
       "\n",
       "    .dataframe tbody tr th {\n",
       "        vertical-align: top;\n",
       "    }\n",
       "\n",
       "    .dataframe thead th {\n",
       "        text-align: right;\n",
       "    }\n",
       "</style>\n",
       "<table border=\"1\" class=\"dataframe\">\n",
       "  <thead>\n",
       "    <tr style=\"text-align: right;\">\n",
       "      <th></th>\n",
       "      <th>Country</th>\n",
       "      <th>2022 Population</th>\n",
       "      <th>Area (km²)</th>\n",
       "      <th>Density (per km²)</th>\n",
       "    </tr>\n",
       "  </thead>\n",
       "  <tbody>\n",
       "    <tr>\n",
       "      <th>119</th>\n",
       "      <td>Macau</td>\n",
       "      <td>695168</td>\n",
       "      <td>30</td>\n",
       "      <td>23172.2667</td>\n",
       "    </tr>\n",
       "    <tr>\n",
       "      <th>134</th>\n",
       "      <td>Monaco</td>\n",
       "      <td>36469</td>\n",
       "      <td>2</td>\n",
       "      <td>18234.5000</td>\n",
       "    </tr>\n",
       "    <tr>\n",
       "      <th>187</th>\n",
       "      <td>Singapore</td>\n",
       "      <td>5975689</td>\n",
       "      <td>710</td>\n",
       "      <td>8416.4634</td>\n",
       "    </tr>\n",
       "    <tr>\n",
       "      <th>89</th>\n",
       "      <td>Hong Kong</td>\n",
       "      <td>7488865</td>\n",
       "      <td>1104</td>\n",
       "      <td>6783.3922</td>\n",
       "    </tr>\n",
       "    <tr>\n",
       "      <th>76</th>\n",
       "      <td>Gibraltar</td>\n",
       "      <td>32649</td>\n",
       "      <td>6</td>\n",
       "      <td>5441.5000</td>\n",
       "    </tr>\n",
       "    <tr>\n",
       "      <th>15</th>\n",
       "      <td>Bahrain</td>\n",
       "      <td>1472233</td>\n",
       "      <td>765</td>\n",
       "      <td>1924.4876</td>\n",
       "    </tr>\n",
       "    <tr>\n",
       "      <th>123</th>\n",
       "      <td>Maldives</td>\n",
       "      <td>523787</td>\n",
       "      <td>300</td>\n",
       "      <td>1745.9567</td>\n",
       "    </tr>\n",
       "    <tr>\n",
       "      <th>125</th>\n",
       "      <td>Malta</td>\n",
       "      <td>533286</td>\n",
       "      <td>316</td>\n",
       "      <td>1687.6139</td>\n",
       "    </tr>\n",
       "    <tr>\n",
       "      <th>188</th>\n",
       "      <td>Sint Maarten</td>\n",
       "      <td>44175</td>\n",
       "      <td>34</td>\n",
       "      <td>1299.2647</td>\n",
       "    </tr>\n",
       "    <tr>\n",
       "      <th>22</th>\n",
       "      <td>Bermuda</td>\n",
       "      <td>64184</td>\n",
       "      <td>54</td>\n",
       "      <td>1188.5926</td>\n",
       "    </tr>\n",
       "  </tbody>\n",
       "</table>\n",
       "</div>"
      ],
      "text/plain": [
       "          Country  2022 Population  Area (km²)  Density (per km²)\n",
       "119         Macau           695168          30         23172.2667\n",
       "134        Monaco            36469           2         18234.5000\n",
       "187     Singapore          5975689         710          8416.4634\n",
       "89      Hong Kong          7488865        1104          6783.3922\n",
       "76      Gibraltar            32649           6          5441.5000\n",
       "15        Bahrain          1472233         765          1924.4876\n",
       "123      Maldives           523787         300          1745.9567\n",
       "125         Malta           533286         316          1687.6139\n",
       "188  Sint Maarten            44175          34          1299.2647\n",
       "22        Bermuda            64184          54          1188.5926"
      ]
     },
     "execution_count": 27,
     "metadata": {},
     "output_type": "execute_result"
    }
   ],
   "source": [
    "world.loc[:,['Country','2022 Population','Area (km²)','Density (per km²)',]].sort_values(by='Density (per km²)',ascending=False).head(10)"
   ]
  },
  {
   "cell_type": "markdown",
   "id": "5eb0a211",
   "metadata": {
    "papermill": {
     "duration": 0.01421,
     "end_time": "2022-08-25T21:08:26.447300",
     "exception": false,
     "start_time": "2022-08-25T21:08:26.433090",
     "status": "completed"
    },
    "tags": []
   },
   "source": [
    "<a id=\"subsection-two-six\"></a>\n",
    "## Count countries that start with each letter"
   ]
  },
  {
   "cell_type": "code",
   "execution_count": 28,
   "id": "31a35eb9",
   "metadata": {
    "execution": {
     "iopub.execute_input": "2022-08-25T21:08:26.479231Z",
     "iopub.status.busy": "2022-08-25T21:08:26.478503Z",
     "iopub.status.idle": "2022-08-25T21:08:26.487116Z",
     "shell.execute_reply": "2022-08-25T21:08:26.486196Z"
    },
    "papermill": {
     "duration": 0.026789,
     "end_time": "2022-08-25T21:08:26.489274",
     "exception": false,
     "start_time": "2022-08-25T21:08:26.462485",
     "status": "completed"
    },
    "tags": []
   },
   "outputs": [
    {
     "data": {
      "text/plain": [
       "0             Afghanistan\n",
       "1                 Albania\n",
       "2                 Algeria\n",
       "3          American Samoa\n",
       "4                 Andorra\n",
       "5                  Angola\n",
       "6                Anguilla\n",
       "7     Antigua and Barbuda\n",
       "8               Argentina\n",
       "9                 Armenia\n",
       "10                  Aruba\n",
       "11              Australia\n",
       "12                Austria\n",
       "13             Azerbaijan\n",
       "Name: Country, dtype: object"
      ]
     },
     "execution_count": 28,
     "metadata": {},
     "output_type": "execute_result"
    }
   ],
   "source": [
    "world[world['Country'].str.startswith('A')]['Country']\n",
    "\n"
   ]
  },
  {
   "cell_type": "code",
   "execution_count": 29,
   "id": "13bfe2d9",
   "metadata": {
    "execution": {
     "iopub.execute_input": "2022-08-25T21:08:26.521555Z",
     "iopub.status.busy": "2022-08-25T21:08:26.520825Z",
     "iopub.status.idle": "2022-08-25T21:08:26.529307Z",
     "shell.execute_reply": "2022-08-25T21:08:26.527793Z"
    },
    "papermill": {
     "duration": 0.028033,
     "end_time": "2022-08-25T21:08:26.532157",
     "exception": false,
     "start_time": "2022-08-25T21:08:26.504124",
     "status": "completed"
    },
    "tags": []
   },
   "outputs": [
    {
     "name": "stdout",
     "output_type": "stream",
     "text": [
      "Number of countries that start with the letter A: 14 \n",
      "\n",
      "Number of countries that start with the letter A: 14 \n",
      "\n"
     ]
    }
   ],
   "source": [
    "### Two ways of display it:\n",
    "print(f\"Number of countries that start with the letter A:\",world.Country.str.startswith('A').sum(),\"\\n\")\n",
    "print(f\"Number of countries that start with the letter A:\",world[world['Country'].str.startswith('A')]['Country'].size,\"\\n\")"
   ]
  },
  {
   "cell_type": "code",
   "execution_count": 30,
   "id": "71accfc5",
   "metadata": {
    "execution": {
     "iopub.execute_input": "2022-08-25T21:08:26.564415Z",
     "iopub.status.busy": "2022-08-25T21:08:26.563231Z",
     "iopub.status.idle": "2022-08-25T21:08:26.575607Z",
     "shell.execute_reply": "2022-08-25T21:08:26.574324Z"
    },
    "papermill": {
     "duration": 0.031515,
     "end_time": "2022-08-25T21:08:26.578712",
     "exception": false,
     "start_time": "2022-08-25T21:08:26.547197",
     "status": "completed"
    },
    "tags": []
   },
   "outputs": [
    {
     "name": "stdout",
     "output_type": "stream",
     "text": [
      "232      Zambia\n",
      "233    Zimbabwe\n",
      "Name: Country, dtype: object \n",
      "\n",
      "Number of countries that start with the letter Z: 2 \n",
      "\n",
      "101    Jamaica\n",
      "102      Japan\n",
      "103     Jersey\n",
      "104     Jordan\n",
      "Name: Country, dtype: object \n",
      "\n",
      "Number of countries that start with the letter J: 4 \n",
      "\n"
     ]
    }
   ],
   "source": [
    "alphabet = string.ascii_uppercase\n",
    "alphabet_list = list(alphabet)\n",
    "alphabet_list_4_letters = ['Z','J']\n",
    "## In this step you can display all the letters(alphabet_list) or a specified list (alphabet_list_4_letters)\n",
    "for letter in alphabet_list_4_letters:\n",
    "    print(world[world['Country'].str.startswith(letter)]['Country'],\"\\n\")\n",
    "    print(f\"Number of countries that start with the letter {letter}:\",world.Country.str.startswith(letter).sum(),\"\\n\")\n",
    "\n"
   ]
  },
  {
   "cell_type": "markdown",
   "id": "e34746ea",
   "metadata": {},
   "source": [
    "# Ranking of Country's Population"
   ]
  },
  {
   "cell_type": "code",
   "execution_count": 31,
   "id": "2d3b9ced",
   "metadata": {},
   "outputs": [
    {
     "data": {
      "text/html": [
       "<div>\n",
       "<style scoped>\n",
       "    .dataframe tbody tr th:only-of-type {\n",
       "        vertical-align: middle;\n",
       "    }\n",
       "\n",
       "    .dataframe tbody tr th {\n",
       "        vertical-align: top;\n",
       "    }\n",
       "\n",
       "    .dataframe thead th {\n",
       "        text-align: right;\n",
       "    }\n",
       "</style>\n",
       "<table border=\"1\" class=\"dataframe\">\n",
       "  <thead>\n",
       "    <tr style=\"text-align: right;\">\n",
       "      <th></th>\n",
       "      <th>Rank</th>\n",
       "      <th>CCA3</th>\n",
       "      <th>Country</th>\n",
       "      <th>Capital</th>\n",
       "      <th>Continent</th>\n",
       "      <th>2022 Population</th>\n",
       "      <th>2020 Population</th>\n",
       "      <th>2015 Population</th>\n",
       "      <th>2010 Population</th>\n",
       "      <th>2000 Population</th>\n",
       "      <th>1990 Population</th>\n",
       "      <th>1980 Population</th>\n",
       "      <th>1970 Population</th>\n",
       "      <th>Area (km²)</th>\n",
       "      <th>Density (per km²)</th>\n",
       "      <th>Growth Rate</th>\n",
       "      <th>World Population Percentage</th>\n",
       "    </tr>\n",
       "  </thead>\n",
       "  <tbody>\n",
       "    <tr>\n",
       "      <th>0</th>\n",
       "      <td>1</td>\n",
       "      <td>CHN</td>\n",
       "      <td>China</td>\n",
       "      <td>Beijing</td>\n",
       "      <td>Asia</td>\n",
       "      <td>1425887337</td>\n",
       "      <td>1424929781</td>\n",
       "      <td>1393715448</td>\n",
       "      <td>1348191368</td>\n",
       "      <td>1264099069</td>\n",
       "      <td>1153704252</td>\n",
       "      <td>982372466</td>\n",
       "      <td>822534450</td>\n",
       "      <td>9706961</td>\n",
       "      <td>146.8933</td>\n",
       "      <td>1.0000</td>\n",
       "      <td>17.88</td>\n",
       "    </tr>\n",
       "    <tr>\n",
       "      <th>1</th>\n",
       "      <td>2</td>\n",
       "      <td>IND</td>\n",
       "      <td>India</td>\n",
       "      <td>New Delhi</td>\n",
       "      <td>Asia</td>\n",
       "      <td>1417173173</td>\n",
       "      <td>1396387127</td>\n",
       "      <td>1322866505</td>\n",
       "      <td>1240613620</td>\n",
       "      <td>1059633675</td>\n",
       "      <td>870452165</td>\n",
       "      <td>696828385</td>\n",
       "      <td>557501301</td>\n",
       "      <td>3287590</td>\n",
       "      <td>431.0675</td>\n",
       "      <td>1.0068</td>\n",
       "      <td>17.77</td>\n",
       "    </tr>\n",
       "    <tr>\n",
       "      <th>2</th>\n",
       "      <td>3</td>\n",
       "      <td>USA</td>\n",
       "      <td>United States</td>\n",
       "      <td>Washington, D.C.</td>\n",
       "      <td>North America</td>\n",
       "      <td>338289857</td>\n",
       "      <td>335942003</td>\n",
       "      <td>324607776</td>\n",
       "      <td>311182845</td>\n",
       "      <td>282398554</td>\n",
       "      <td>248083732</td>\n",
       "      <td>223140018</td>\n",
       "      <td>200328340</td>\n",
       "      <td>9372610</td>\n",
       "      <td>36.0935</td>\n",
       "      <td>1.0038</td>\n",
       "      <td>4.24</td>\n",
       "    </tr>\n",
       "    <tr>\n",
       "      <th>3</th>\n",
       "      <td>4</td>\n",
       "      <td>IDN</td>\n",
       "      <td>Indonesia</td>\n",
       "      <td>Jakarta</td>\n",
       "      <td>Asia</td>\n",
       "      <td>275501339</td>\n",
       "      <td>271857970</td>\n",
       "      <td>259091970</td>\n",
       "      <td>244016173</td>\n",
       "      <td>214072421</td>\n",
       "      <td>182159874</td>\n",
       "      <td>148177096</td>\n",
       "      <td>115228394</td>\n",
       "      <td>1904569</td>\n",
       "      <td>144.6529</td>\n",
       "      <td>1.0064</td>\n",
       "      <td>3.45</td>\n",
       "    </tr>\n",
       "    <tr>\n",
       "      <th>4</th>\n",
       "      <td>5</td>\n",
       "      <td>PAK</td>\n",
       "      <td>Pakistan</td>\n",
       "      <td>Islamabad</td>\n",
       "      <td>Asia</td>\n",
       "      <td>235824862</td>\n",
       "      <td>227196741</td>\n",
       "      <td>210969298</td>\n",
       "      <td>194454498</td>\n",
       "      <td>154369924</td>\n",
       "      <td>115414069</td>\n",
       "      <td>80624057</td>\n",
       "      <td>59290872</td>\n",
       "      <td>881912</td>\n",
       "      <td>267.4018</td>\n",
       "      <td>1.0191</td>\n",
       "      <td>2.96</td>\n",
       "    </tr>\n",
       "    <tr>\n",
       "      <th>...</th>\n",
       "      <td>...</td>\n",
       "      <td>...</td>\n",
       "      <td>...</td>\n",
       "      <td>...</td>\n",
       "      <td>...</td>\n",
       "      <td>...</td>\n",
       "      <td>...</td>\n",
       "      <td>...</td>\n",
       "      <td>...</td>\n",
       "      <td>...</td>\n",
       "      <td>...</td>\n",
       "      <td>...</td>\n",
       "      <td>...</td>\n",
       "      <td>...</td>\n",
       "      <td>...</td>\n",
       "      <td>...</td>\n",
       "      <td>...</td>\n",
       "    </tr>\n",
       "    <tr>\n",
       "      <th>229</th>\n",
       "      <td>230</td>\n",
       "      <td>MSR</td>\n",
       "      <td>Montserrat</td>\n",
       "      <td>Brades</td>\n",
       "      <td>North America</td>\n",
       "      <td>4390</td>\n",
       "      <td>4500</td>\n",
       "      <td>5059</td>\n",
       "      <td>4938</td>\n",
       "      <td>5138</td>\n",
       "      <td>10805</td>\n",
       "      <td>11452</td>\n",
       "      <td>11402</td>\n",
       "      <td>102</td>\n",
       "      <td>43.0392</td>\n",
       "      <td>0.9939</td>\n",
       "      <td>0.00</td>\n",
       "    </tr>\n",
       "    <tr>\n",
       "      <th>230</th>\n",
       "      <td>231</td>\n",
       "      <td>FLK</td>\n",
       "      <td>Falkland Islands</td>\n",
       "      <td>Stanley</td>\n",
       "      <td>South America</td>\n",
       "      <td>3780</td>\n",
       "      <td>3747</td>\n",
       "      <td>3408</td>\n",
       "      <td>3187</td>\n",
       "      <td>3080</td>\n",
       "      <td>2332</td>\n",
       "      <td>2240</td>\n",
       "      <td>2274</td>\n",
       "      <td>12173</td>\n",
       "      <td>0.3105</td>\n",
       "      <td>1.0043</td>\n",
       "      <td>0.00</td>\n",
       "    </tr>\n",
       "    <tr>\n",
       "      <th>231</th>\n",
       "      <td>232</td>\n",
       "      <td>NIU</td>\n",
       "      <td>Niue</td>\n",
       "      <td>Alofi</td>\n",
       "      <td>Oceania</td>\n",
       "      <td>1934</td>\n",
       "      <td>1942</td>\n",
       "      <td>1847</td>\n",
       "      <td>1812</td>\n",
       "      <td>2074</td>\n",
       "      <td>2533</td>\n",
       "      <td>3637</td>\n",
       "      <td>5185</td>\n",
       "      <td>260</td>\n",
       "      <td>7.4385</td>\n",
       "      <td>0.9985</td>\n",
       "      <td>0.00</td>\n",
       "    </tr>\n",
       "    <tr>\n",
       "      <th>232</th>\n",
       "      <td>233</td>\n",
       "      <td>TKL</td>\n",
       "      <td>Tokelau</td>\n",
       "      <td>Nukunonu</td>\n",
       "      <td>Oceania</td>\n",
       "      <td>1871</td>\n",
       "      <td>1827</td>\n",
       "      <td>1454</td>\n",
       "      <td>1367</td>\n",
       "      <td>1666</td>\n",
       "      <td>1669</td>\n",
       "      <td>1647</td>\n",
       "      <td>1714</td>\n",
       "      <td>12</td>\n",
       "      <td>155.9167</td>\n",
       "      <td>1.0119</td>\n",
       "      <td>0.00</td>\n",
       "    </tr>\n",
       "    <tr>\n",
       "      <th>233</th>\n",
       "      <td>234</td>\n",
       "      <td>VAT</td>\n",
       "      <td>Vatican City</td>\n",
       "      <td>Vatican City</td>\n",
       "      <td>Europe</td>\n",
       "      <td>510</td>\n",
       "      <td>520</td>\n",
       "      <td>564</td>\n",
       "      <td>596</td>\n",
       "      <td>651</td>\n",
       "      <td>700</td>\n",
       "      <td>733</td>\n",
       "      <td>752</td>\n",
       "      <td>1</td>\n",
       "      <td>510.0000</td>\n",
       "      <td>0.9980</td>\n",
       "      <td>0.00</td>\n",
       "    </tr>\n",
       "  </tbody>\n",
       "</table>\n",
       "<p>234 rows × 17 columns</p>\n",
       "</div>"
      ],
      "text/plain": [
       "     Rank CCA3           Country           Capital      Continent  \\\n",
       "0       1  CHN             China           Beijing           Asia   \n",
       "1       2  IND             India         New Delhi           Asia   \n",
       "2       3  USA     United States  Washington, D.C.  North America   \n",
       "3       4  IDN         Indonesia           Jakarta           Asia   \n",
       "4       5  PAK          Pakistan         Islamabad           Asia   \n",
       "..    ...  ...               ...               ...            ...   \n",
       "229   230  MSR        Montserrat            Brades  North America   \n",
       "230   231  FLK  Falkland Islands           Stanley  South America   \n",
       "231   232  NIU              Niue             Alofi        Oceania   \n",
       "232   233  TKL           Tokelau          Nukunonu        Oceania   \n",
       "233   234  VAT      Vatican City      Vatican City         Europe   \n",
       "\n",
       "     2022 Population  2020 Population  2015 Population  2010 Population  \\\n",
       "0         1425887337       1424929781       1393715448       1348191368   \n",
       "1         1417173173       1396387127       1322866505       1240613620   \n",
       "2          338289857        335942003        324607776        311182845   \n",
       "3          275501339        271857970        259091970        244016173   \n",
       "4          235824862        227196741        210969298        194454498   \n",
       "..               ...              ...              ...              ...   \n",
       "229             4390             4500             5059             4938   \n",
       "230             3780             3747             3408             3187   \n",
       "231             1934             1942             1847             1812   \n",
       "232             1871             1827             1454             1367   \n",
       "233              510              520              564              596   \n",
       "\n",
       "     2000 Population  1990 Population  1980 Population  1970 Population  \\\n",
       "0         1264099069       1153704252        982372466        822534450   \n",
       "1         1059633675        870452165        696828385        557501301   \n",
       "2          282398554        248083732        223140018        200328340   \n",
       "3          214072421        182159874        148177096        115228394   \n",
       "4          154369924        115414069         80624057         59290872   \n",
       "..               ...              ...              ...              ...   \n",
       "229             5138            10805            11452            11402   \n",
       "230             3080             2332             2240             2274   \n",
       "231             2074             2533             3637             5185   \n",
       "232             1666             1669             1647             1714   \n",
       "233              651              700              733              752   \n",
       "\n",
       "     Area (km²)  Density (per km²)  Growth Rate  World Population Percentage  \n",
       "0       9706961           146.8933       1.0000                        17.88  \n",
       "1       3287590           431.0675       1.0068                        17.77  \n",
       "2       9372610            36.0935       1.0038                         4.24  \n",
       "3       1904569           144.6529       1.0064                         3.45  \n",
       "4        881912           267.4018       1.0191                         2.96  \n",
       "..          ...                ...          ...                          ...  \n",
       "229         102            43.0392       0.9939                         0.00  \n",
       "230       12173             0.3105       1.0043                         0.00  \n",
       "231         260             7.4385       0.9985                         0.00  \n",
       "232          12           155.9167       1.0119                         0.00  \n",
       "233           1           510.0000       0.9980                         0.00  \n",
       "\n",
       "[234 rows x 17 columns]"
      ]
     },
     "execution_count": 31,
     "metadata": {},
     "output_type": "execute_result"
    }
   ],
   "source": [
    "world.sort_values('Rank').reset_index(drop=True)"
   ]
  },
  {
   "cell_type": "markdown",
   "id": "3a790338",
   "metadata": {},
   "source": [
    "# 5 Feature Selection"
   ]
  },
  {
   "cell_type": "code",
   "execution_count": 32,
   "id": "47a042e2",
   "metadata": {},
   "outputs": [],
   "source": [
    "def correlation(worldset, threshold):\n",
    "    col_corr = set()\n",
    "    corr_matrix = worldset.corr()\n",
    "    for i in range(len(corr_matrix.columns)):\n",
    "        for j in range(i):\n",
    "            if abs(corr_matrix.iloc[i,j]) > threshold:\n",
    "                colname = corr_matrix.columns[i]\n",
    "                col_corr.add(colname)\n",
    "    return col_corr  "
   ]
  },
  {
   "cell_type": "code",
   "execution_count": 33,
   "id": "62b72f68",
   "metadata": {},
   "outputs": [],
   "source": [
    "x =world.drop('World Population Percentage',axis=1)\n",
    "y =world['World Population Percentage']"
   ]
  },
  {
   "cell_type": "code",
   "execution_count": 34,
   "id": "1ee22c1c",
   "metadata": {},
   "outputs": [
    {
     "data": {
      "text/plain": [
       "{'1970 Population',\n",
       " '1980 Population',\n",
       " '1990 Population',\n",
       " '2000 Population',\n",
       " '2010 Population',\n",
       " '2015 Population',\n",
       " '2020 Population'}"
      ]
     },
     "execution_count": 34,
     "metadata": {},
     "output_type": "execute_result"
    }
   ],
   "source": [
    "correlation(x,0.9)"
   ]
  },
  {
   "cell_type": "code",
   "execution_count": 35,
   "id": "4f98952b",
   "metadata": {},
   "outputs": [
    {
     "data": {
      "image/png": "[encoded data removed]",
      "text/plain": [
       "<Figure size 1080x216 with 2 Axes>"
      ]
     },
     "metadata": {
      "needs_background": "light"
     },
     "output_type": "display_data"
    }
   ],
   "source": [
    "fig, ax = plt.subplots(1, 2, figsize=(15,3))\n",
    "palette_color = sns.color_palette('magma')\n",
    "world[['Country', 'Density (per km²)']].sort_values(by='Density (per km²)', ascending=False).iloc[:5, :].set_index('Country').plot(kind='bar',\n",
    "                                                                                                                                   color=palette_color,\n",
    "                                                                                                                                   legend=False,\n",
    "                                                                                                                                   ax=ax[0],\n",
    "                                                                                                                                   xlabel='',\n",
    "                                                                                                                                   ylabel='Density Population',\n",
    "                                                                                                                                   title='top 5 countries with the largest population density')\n",
    "world[['Country', 'Density (per km²)']].sort_values(by='Density (per km²)').iloc[:5, :].set_index('Country').plot(kind='bar',\n",
    "                                                                                                                  color=palette_color,\n",
    "                                                                                                                  legend=False,\n",
    "                                                                                                                  ax=ax[1],\n",
    "                                                                                                                  xlabel='',\n",
    "                                                                                                                  ylabel='Density Population',\n",
    "                                                                                                                  title='top 5 countries with the smallest population density')\n",
    "ax[0].tick_params(labelrotation=45)\n",
    "ax[1].tick_params(labelrotation=45)\n",
    "plt.show()"
   ]
  },
  {
   "cell_type": "code",
   "execution_count": null,
   "id": "6a173b85",
   "metadata": {},
   "outputs": [],
   "source": []
  }
 ],
 "metadata": {
  "kernelspec": {
   "display_name": "Python 3 (ipykernel)",
   "language": "python",
   "name": "python3"
  },
  "language_info": {
   "codemirror_mode": {
    "name": "ipython",
    "version": 3
   },
   "file_extension": ".py",
   "mimetype": "text/x-python",
   "name": "python",
   "nbconvert_exporter": "python",
   "pygments_lexer": "ipython3",
   "version": "3.9.12"
  },
  "papermill": {
   "default_parameters": {},
   "duration": 15.783204,
   "end_time": "2022-08-25T21:08:27.417246",
   "environment_variables": {},
   "exception": null,
   "input_path": "__notebook__.ipynb",
   "output_path": "__notebook__.ipynb",
   "parameters": {},
   "start_time": "2022-08-25T21:08:11.634042",
   "version": "2.3.4"
  }
 },
 "nbformat": 4,
 "nbformat_minor": 5
}
